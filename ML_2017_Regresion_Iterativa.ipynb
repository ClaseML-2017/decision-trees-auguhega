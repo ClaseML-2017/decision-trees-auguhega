{
 "cells": [
  {
   "cell_type": "markdown",
   "metadata": {},
   "source": [
    "# Regresion Iterativa "
   ]
  },
  {
   "cell_type": "code",
   "execution_count": 8,
   "metadata": {
    "collapsed": true
   },
   "outputs": [],
   "source": [
    "import pandas as pd\n",
    "import numpy as np\n",
    "import csv\n",
    "import random as rnd\n",
    "from sklearn.model_selection import train_test_split\n",
    "from sklearn.linear_model import LinearRegression\n",
    "from sklearn import preprocessing\n",
    "import matplotlib.pyplot as plt\n",
    "%matplotlib inline"
   ]
  },
  {
   "cell_type": "code",
   "execution_count": 9,
   "metadata": {
    "collapsed": true
   },
   "outputs": [],
   "source": [
    "df=pd.read_csv('regLin.csv')"
   ]
  },
  {
   "cell_type": "code",
   "execution_count": 10,
   "metadata": {},
   "outputs": [
    {
     "data": {
      "text/html": [
       "<div>\n",
       "<style>\n",
       "    .dataframe thead tr:only-child th {\n",
       "        text-align: right;\n",
       "    }\n",
       "\n",
       "    .dataframe thead th {\n",
       "        text-align: left;\n",
       "    }\n",
       "\n",
       "    .dataframe tbody tr th {\n",
       "        vertical-align: top;\n",
       "    }\n",
       "</style>\n",
       "<table border=\"1\" class=\"dataframe\">\n",
       "  <thead>\n",
       "    <tr style=\"text-align: right;\">\n",
       "      <th></th>\n",
       "      <th>X</th>\n",
       "      <th>y</th>\n",
       "    </tr>\n",
       "  </thead>\n",
       "  <tbody>\n",
       "    <tr>\n",
       "      <th>0</th>\n",
       "      <td>35.657897</td>\n",
       "      <td>28.074403</td>\n",
       "    </tr>\n",
       "    <tr>\n",
       "      <th>1</th>\n",
       "      <td>48.685931</td>\n",
       "      <td>36.674434</td>\n",
       "    </tr>\n",
       "    <tr>\n",
       "      <th>2</th>\n",
       "      <td>95.861773</td>\n",
       "      <td>67.903577</td>\n",
       "    </tr>\n",
       "    <tr>\n",
       "      <th>3</th>\n",
       "      <td>25.997253</td>\n",
       "      <td>11.931727</td>\n",
       "    </tr>\n",
       "    <tr>\n",
       "      <th>4</th>\n",
       "      <td>49.964772</td>\n",
       "      <td>30.286144</td>\n",
       "    </tr>\n",
       "  </tbody>\n",
       "</table>\n",
       "</div>"
      ],
      "text/plain": [
       "           X          y\n",
       "0  35.657897  28.074403\n",
       "1  48.685931  36.674434\n",
       "2  95.861773  67.903577\n",
       "3  25.997253  11.931727\n",
       "4  49.964772  30.286144"
      ]
     },
     "execution_count": 10,
     "metadata": {},
     "output_type": "execute_result"
    }
   ],
   "source": [
    "df.head()"
   ]
  },
  {
   "cell_type": "code",
   "execution_count": 11,
   "metadata": {
    "collapsed": true
   },
   "outputs": [],
   "source": [
    " X_train, X_test, Y_train, Y_test = train_test_split(df[['X']],df[['y']], train_size=0.75)"
   ]
  },
  {
   "cell_type": "code",
   "execution_count": 12,
   "metadata": {
    "collapsed": true
   },
   "outputs": [],
   "source": [
    "X_scaler = preprocessing.StandardScaler().fit(X_train)\n",
    "Y_scaler = preprocessing.StandardScaler().fit(Y_train)\n",
    "X_scaler_p = preprocessing.StandardScaler().fit(X_test)\n",
    "Y_scaler_p = preprocessing.StandardScaler().fit(Y_test)"
   ]
  },
  {
   "cell_type": "code",
   "execution_count": 13,
   "metadata": {
    "collapsed": true
   },
   "outputs": [],
   "source": [
    "Xscaler = X_scaler.transform(X_train)\n",
    "Yscaler = Y_scaler.transform(Y_train)\n",
    "Xscaler_p = X_scaler_p.transform(X_test)\n",
    "Yscaler_p = Y_scaler_p.transform(Y_test)"
   ]
  },
  {
   "cell_type": "code",
   "execution_count": 14,
   "metadata": {
    "collapsed": true
   },
   "outputs": [],
   "source": [
    "Xscaler = pd.DataFrame(Xscaler)\n",
    "Yscaler = pd.DataFrame(Yscaler)\n",
    "Xscaler_p = pd.DataFrame(Xscaler_p)\n",
    "Yscaler_p = pd.DataFrame(Yscaler_p)"
   ]
  },
  {
   "cell_type": "code",
   "execution_count": 15,
   "metadata": {},
   "outputs": [
    {
     "data": {
      "text/plain": [
       "<matplotlib.collections.PathCollection at 0xce871d0>"
      ]
     },
     "execution_count": 15,
     "metadata": {},
     "output_type": "execute_result"
    },
    {
     "data": {
      "image/png": "[encoded data removed]",
      "text/plain": [
       "<matplotlib.figure.Figure at 0xcc50d30>"
      ]
     },
     "metadata": {},
     "output_type": "display_data"
    }
   ],
   "source": [
    "plt.scatter(Xscaler, Yscaler)"
   ]
  },
  {
   "cell_type": "code",
   "execution_count": 16,
   "metadata": {},
   "outputs": [
    {
     "data": {
      "text/plain": [
       "LinearRegression(copy_X=True, fit_intercept=True, n_jobs=1, normalize=False)"
      ]
     },
     "execution_count": 16,
     "metadata": {},
     "output_type": "execute_result"
    }
   ],
   "source": [
    "linReg=LinearRegression()\n",
    "linReg.fit(Xscaler, Yscaler)"
   ]
  },
  {
   "cell_type": "code",
   "execution_count": 17,
   "metadata": {},
   "outputs": [
    {
     "name": "stdout",
     "output_type": "stream",
     "text": [
      "[  8.96519872e-17] [ 0.9732749]\n"
     ]
    }
   ],
   "source": [
    "print linReg.intercept_, linReg.coef_[0]"
   ]
  },
  {
   "cell_type": "markdown",
   "metadata": {},
   "source": [
    "Obtenemos el vector de V^"
   ]
  },
  {
   "cell_type": "code",
   "execution_count": 18,
   "metadata": {
    "collapsed": true
   },
   "outputs": [],
   "source": [
    "pred=linReg.predict(Xscaler)"
   ]
  },
  {
   "cell_type": "code",
   "execution_count": 19,
   "metadata": {},
   "outputs": [
    {
     "data": {
      "text/plain": [
       "array([[-0.78132132],\n",
       "       [ 0.1734135 ],\n",
       "       [-1.43185176],\n",
       "       [-0.746562  ],\n",
       "       [ 1.00875738],\n",
       "       [ 0.50060427],\n",
       "       [ 0.69983192],\n",
       "       [ 0.84492054],\n",
       "       [-0.23429841],\n",
       "       [-0.03203385],\n",
       "       [-1.15028352],\n",
       "       [ 1.53955457],\n",
       "       [ 0.51806152],\n",
       "       [-0.10037324],\n",
       "       [ 0.736487  ],\n",
       "       [ 1.26965884],\n",
       "       [-1.07901339],\n",
       "       [-0.0146559 ],\n",
       "       [-1.58990178],\n",
       "       [-0.90163942],\n",
       "       [ 0.68781976],\n",
       "       [ 0.46114146],\n",
       "       [ 0.95644458],\n",
       "       [ 0.15494807],\n",
       "       [-0.22069331],\n",
       "       [ 0.10200435],\n",
       "       [-0.35641734],\n",
       "       [-0.72204879],\n",
       "       [-1.24645698],\n",
       "       [-0.23543823],\n",
       "       [ 0.97125654],\n",
       "       [-1.23910074],\n",
       "       [-0.24331665],\n",
       "       [-0.82768196],\n",
       "       [ 0.80278372],\n",
       "       [-1.11096515],\n",
       "       [ 1.22964712],\n",
       "       [-0.21070167],\n",
       "       [ 0.6785547 ],\n",
       "       [-1.27727521],\n",
       "       [ 0.47104766],\n",
       "       [-1.64019137],\n",
       "       [-1.61629381],\n",
       "       [ 1.30892373],\n",
       "       [-1.46229681],\n",
       "       [-1.65210863],\n",
       "       [-1.33469089],\n",
       "       [ 0.44033796],\n",
       "       [ 1.56993219],\n",
       "       [ 0.41809054],\n",
       "       [ 0.84962069],\n",
       "       [-0.82105344],\n",
       "       [ 1.61813389],\n",
       "       [ 0.82513464],\n",
       "       [-0.81427195],\n",
       "       [ 0.08533692],\n",
       "       [-0.55118864],\n",
       "       [-0.1116689 ],\n",
       "       [-0.34331007],\n",
       "       [ 0.50104751],\n",
       "       [-0.76391035],\n",
       "       [-1.53925381],\n",
       "       [-0.66988844],\n",
       "       [ 0.40906973],\n",
       "       [ 0.20753484],\n",
       "       [ 1.11305225],\n",
       "       [-0.37263745],\n",
       "       [-0.26242725],\n",
       "       [ 1.37557479],\n",
       "       [ 1.4932816 ],\n",
       "       [ 1.09609716],\n",
       "       [-1.17235093],\n",
       "       [-1.53424587],\n",
       "       [-0.61081294],\n",
       "       [-1.63086435],\n",
       "       [-1.36958487],\n",
       "       [ 1.12265712],\n",
       "       [ 1.09166875],\n",
       "       [ 1.36639964],\n",
       "       [-1.55069218],\n",
       "       [-1.4399246 ],\n",
       "       [ 0.65424477],\n",
       "       [ 0.95060747],\n",
       "       [-1.35404924],\n",
       "       [-1.00023835],\n",
       "       [-0.53415856],\n",
       "       [-1.64682806],\n",
       "       [-0.9321566 ],\n",
       "       [ 0.36715983],\n",
       "       [ 1.01670677],\n",
       "       [ 1.5321622 ],\n",
       "       [-1.60606131],\n",
       "       [-0.03419603],\n",
       "       [ 0.17197739],\n",
       "       [ 0.53842273],\n",
       "       [ 0.04383879],\n",
       "       [ 1.37055186],\n",
       "       [-1.12663462],\n",
       "       [-0.93946302],\n",
       "       [-0.19460366],\n",
       "       [ 1.39427596],\n",
       "       [ 0.59814504],\n",
       "       [-1.6290173 ],\n",
       "       [-0.86968442],\n",
       "       [ 0.53483415],\n",
       "       [-0.79275147],\n",
       "       [ 0.59068776],\n",
       "       [-0.19566353],\n",
       "       [-0.63616502],\n",
       "       [ 1.64926078],\n",
       "       [-0.61975507],\n",
       "       [-0.08478283],\n",
       "       [ 0.8110851 ],\n",
       "       [-0.26214398],\n",
       "       [ 1.12771901],\n",
       "       [ 0.63961288],\n",
       "       [ 1.27486578],\n",
       "       [-1.17095572],\n",
       "       [ 1.04775824],\n",
       "       [-0.61989933],\n",
       "       [ 0.83047049],\n",
       "       [-1.19834966],\n",
       "       [-1.23274818],\n",
       "       [-0.82061625],\n",
       "       [-1.48578884],\n",
       "       [-1.41874411],\n",
       "       [ 0.86196517],\n",
       "       [-0.74400458],\n",
       "       [ 1.05127142],\n",
       "       [ 1.55458124],\n",
       "       [ 0.29250623],\n",
       "       [-0.05324685],\n",
       "       [ 0.59378227],\n",
       "       [ 0.47957246],\n",
       "       [ 1.24361129],\n",
       "       [ 1.17860424],\n",
       "       [ 1.36761751],\n",
       "       [ 1.25766062],\n",
       "       [-1.42537643],\n",
       "       [ 0.28727364],\n",
       "       [ 1.38287001],\n",
       "       [-0.16277259],\n",
       "       [-0.60996103],\n",
       "       [ 0.78483507],\n",
       "       [ 1.03018508],\n",
       "       [-0.57983546],\n",
       "       [-1.48528428],\n",
       "       [ 0.9722942 ],\n",
       "       [ 1.05423476],\n",
       "       [ 1.03760477],\n",
       "       [ 0.18451189],\n",
       "       [ 0.02877732],\n",
       "       [ 0.54120187],\n",
       "       [-1.37974565],\n",
       "       [-1.55584309],\n",
       "       [-0.98242051],\n",
       "       [-0.25386621],\n",
       "       [-0.44582321],\n",
       "       [-1.43845224],\n",
       "       [ 0.53603598],\n",
       "       [-0.02343424],\n",
       "       [ 0.19282472],\n",
       "       [ 0.60285494],\n",
       "       [ 1.63008726],\n",
       "       [ 1.48599725],\n",
       "       [ 0.03172616],\n",
       "       [-1.11030098],\n",
       "       [ 1.05978017],\n",
       "       [-1.62613849],\n",
       "       [-0.17996266],\n",
       "       [ 0.98005639],\n",
       "       [ 1.19858013],\n",
       "       [ 0.29806633],\n",
       "       [ 0.33222192],\n",
       "       [ 0.29767396],\n",
       "       [-0.915769  ],\n",
       "       [-1.2593386 ],\n",
       "       [-1.4343158 ],\n",
       "       [-0.43600964],\n",
       "       [ 1.3983557 ],\n",
       "       [-1.06920864],\n",
       "       [-1.51265861],\n",
       "       [ 0.66634807],\n",
       "       [ 1.41996835],\n",
       "       [ 0.03696713],\n",
       "       [-0.64128655],\n",
       "       [-1.28204037],\n",
       "       [-0.06162604],\n",
       "       [-0.30882286],\n",
       "       [-1.15097411],\n",
       "       [-0.92313826],\n",
       "       [ 1.65400078],\n",
       "       [-1.42947641],\n",
       "       [ 1.18300752],\n",
       "       [ 1.6455468 ],\n",
       "       [ 1.55757406],\n",
       "       [ 1.02447596],\n",
       "       [-0.58282637],\n",
       "       [ 1.00528571],\n",
       "       [ 0.34770298],\n",
       "       [-0.82211716],\n",
       "       [-1.42312546],\n",
       "       [-0.80760156],\n",
       "       [ 1.07440209],\n",
       "       [-0.24313064],\n",
       "       [ 0.95854829],\n",
       "       [ 1.0231327 ],\n",
       "       [-0.09271149],\n",
       "       [ 0.66422778],\n",
       "       [-0.27694348],\n",
       "       [-0.61875138],\n",
       "       [-0.4626367 ],\n",
       "       [ 1.63447524],\n",
       "       [-0.62841224],\n",
       "       [-1.19347804],\n",
       "       [-1.47757882],\n",
       "       [-1.41340417],\n",
       "       [-0.17842214],\n",
       "       [-0.41579806],\n",
       "       [-1.13714308],\n",
       "       [ 0.20232405],\n",
       "       [-0.22978062],\n",
       "       [-0.08329723],\n",
       "       [-0.83800366],\n",
       "       [-0.88540049],\n",
       "       [-1.46696332],\n",
       "       [-0.5110391 ],\n",
       "       [-0.12763377],\n",
       "       [-1.41927805],\n",
       "       [ 0.88766128],\n",
       "       [-1.49091612],\n",
       "       [-1.03859265],\n",
       "       [ 1.33308714],\n",
       "       [ 1.5802421 ],\n",
       "       [ 0.55307829],\n",
       "       [ 1.46285405],\n",
       "       [-0.23733136],\n",
       "       [ 0.97715116],\n",
       "       [ 1.44253126],\n",
       "       [-0.33983172],\n",
       "       [-0.73855824],\n",
       "       [ 0.84483674],\n",
       "       [-0.46095626],\n",
       "       [ 0.41998977],\n",
       "       [-1.53636862],\n",
       "       [-0.17347259],\n",
       "       [ 0.81283519],\n",
       "       [-1.38725212],\n",
       "       [-1.10763277],\n",
       "       [ 0.60825043],\n",
       "       [-1.34877673],\n",
       "       [ 1.15955764],\n",
       "       [-1.01252998],\n",
       "       [ 1.16059489],\n",
       "       [ 0.66371263],\n",
       "       [-0.02787695],\n",
       "       [ 1.37268494],\n",
       "       [ 1.56361219],\n",
       "       [-0.61802222],\n",
       "       [-0.58988889],\n",
       "       [-0.97341572],\n",
       "       [ 0.2491715 ],\n",
       "       [ 0.02083018],\n",
       "       [ 0.16643645],\n",
       "       [ 1.14978664],\n",
       "       [ 1.05680117],\n",
       "       [ 0.3069697 ],\n",
       "       [-1.25815111],\n",
       "       [-0.92197594],\n",
       "       [-1.36951045],\n",
       "       [ 0.80402218],\n",
       "       [ 0.1133381 ],\n",
       "       [-1.48248386],\n",
       "       [ 1.07296155],\n",
       "       [-1.00192931],\n",
       "       [-1.0843932 ],\n",
       "       [ 1.39669578],\n",
       "       [ 0.31992188],\n",
       "       [-0.18270078],\n",
       "       [ 0.24633016],\n",
       "       [ 0.39307609],\n",
       "       [ 0.41894185],\n",
       "       [-0.35864664],\n",
       "       [-0.03577013],\n",
       "       [ 0.6896642 ],\n",
       "       [ 0.49704099],\n",
       "       [-0.32619754],\n",
       "       [ 1.20647211],\n",
       "       [-0.49562811],\n",
       "       [-0.6620965 ],\n",
       "       [ 0.25054629],\n",
       "       [-1.13865216],\n",
       "       [-1.33904052],\n",
       "       [-0.6433392 ],\n",
       "       [ 0.20084539],\n",
       "       [ 0.30825838],\n",
       "       [-0.08915985],\n",
       "       [-1.06921947],\n",
       "       [ 1.66913464],\n",
       "       [-0.58338719],\n",
       "       [ 0.74679672],\n",
       "       [-0.34508595],\n",
       "       [-0.49386749],\n",
       "       [-0.79805238],\n",
       "       [-1.63340201],\n",
       "       [-0.03744606],\n",
       "       [ 1.11491582],\n",
       "       [ 0.04613254],\n",
       "       [ 0.31673233],\n",
       "       [ 1.62168209],\n",
       "       [ 0.4425266 ],\n",
       "       [ 0.88066527],\n",
       "       [-0.61487884],\n",
       "       [ 1.10834074],\n",
       "       [ 0.7884244 ],\n",
       "       [ 0.43280759],\n",
       "       [-0.07162769],\n",
       "       [ 0.49272163],\n",
       "       [ 1.10340135],\n",
       "       [-0.81637826],\n",
       "       [ 1.15635062],\n",
       "       [-1.28461549],\n",
       "       [ 0.87987322],\n",
       "       [-0.88573774],\n",
       "       [ 1.42444827],\n",
       "       [-1.61752899],\n",
       "       [-1.40605856],\n",
       "       [ 0.52551164],\n",
       "       [ 0.39727141],\n",
       "       [-0.48141024],\n",
       "       [-1.36384311],\n",
       "       [-1.60399857],\n",
       "       [-1.4066915 ],\n",
       "       [-1.16114619],\n",
       "       [ 1.24836109],\n",
       "       [-1.58583639],\n",
       "       [ 1.23047061],\n",
       "       [ 0.65582927],\n",
       "       [-1.48271437],\n",
       "       [-0.65735013],\n",
       "       [ 0.42324252],\n",
       "       [ 0.86847358],\n",
       "       [ 0.52728127],\n",
       "       [ 1.23324857],\n",
       "       [-0.87825077],\n",
       "       [ 0.0804598 ],\n",
       "       [-1.11325151],\n",
       "       [ 1.5462259 ],\n",
       "       [ 0.63573828],\n",
       "       [ 0.39359146],\n",
       "       [-0.53613589],\n",
       "       [-1.51959167],\n",
       "       [-1.17445873],\n",
       "       [ 0.15543317],\n",
       "       [-0.15029066],\n",
       "       [ 0.15081076],\n",
       "       [-1.5100396 ],\n",
       "       [ 0.67649469],\n",
       "       [ 0.36901659],\n",
       "       [ 0.57080107],\n",
       "       [ 0.11606736],\n",
       "       [ 0.50811412],\n",
       "       [ 0.03098446],\n",
       "       [-0.06139395],\n",
       "       [ 1.28814375],\n",
       "       [-0.74841538],\n",
       "       [-0.9758847 ],\n",
       "       [ 1.23394004],\n",
       "       [-0.20850094],\n",
       "       [ 0.61653425],\n",
       "       [-1.38571048],\n",
       "       [ 0.70942201],\n",
       "       [-1.67107873],\n",
       "       [ 0.40572288],\n",
       "       [ 1.25524969],\n",
       "       [ 0.17930261],\n",
       "       [-0.32018976],\n",
       "       [ 0.14252931],\n",
       "       [-0.81757977],\n",
       "       [ 0.58500929],\n",
       "       [ 0.83860098],\n",
       "       [ 1.56400995],\n",
       "       [ 0.64249516],\n",
       "       [-0.62290196],\n",
       "       [ 1.34425574],\n",
       "       [ 0.02103465],\n",
       "       [-0.42710751],\n",
       "       [ 0.45932568],\n",
       "       [ 0.11828556],\n",
       "       [ 0.81193558],\n",
       "       [ 1.57789442],\n",
       "       [-1.18633401],\n",
       "       [ 0.99790825],\n",
       "       [ 1.12089545],\n",
       "       [-0.10363377],\n",
       "       [ 0.39970145],\n",
       "       [ 0.21285367],\n",
       "       [ 0.32107279],\n",
       "       [ 1.61465706],\n",
       "       [-0.94273989],\n",
       "       [ 1.23916732],\n",
       "       [-0.51314034],\n",
       "       [ 0.54008711],\n",
       "       [ 0.30391147],\n",
       "       [-1.34305092],\n",
       "       [ 0.33890075],\n",
       "       [-0.05868945],\n",
       "       [-0.5591515 ],\n",
       "       [ 1.03309287],\n",
       "       [-1.3731518 ],\n",
       "       [ 1.00624436],\n",
       "       [ 1.33421991],\n",
       "       [ 0.08668647],\n",
       "       [-0.33600779],\n",
       "       [ 0.05612737],\n",
       "       [-1.39854378],\n",
       "       [-0.53919346],\n",
       "       [ 1.15480235],\n",
       "       [ 0.57445144],\n",
       "       [-0.84282536],\n",
       "       [-0.50021205],\n",
       "       [-0.6285687 ],\n",
       "       [-0.23140228],\n",
       "       [ 0.45807861],\n",
       "       [ 1.52610282],\n",
       "       [ 1.28906504],\n",
       "       [ 0.21627754],\n",
       "       [-0.71271842],\n",
       "       [-0.12578216],\n",
       "       [ 0.84094883],\n",
       "       [-0.82722658],\n",
       "       [ 0.19956333],\n",
       "       [ 0.61721225],\n",
       "       [-1.07363754],\n",
       "       [-1.32888612],\n",
       "       [-0.31078329],\n",
       "       [ 1.18288762],\n",
       "       [-0.62119004],\n",
       "       [-0.66989892],\n",
       "       [-1.30392757],\n",
       "       [-1.52284097],\n",
       "       [-0.12142057],\n",
       "       [ 0.90901586],\n",
       "       [-0.15402715],\n",
       "       [ 0.17229459],\n",
       "       [-0.63796155],\n",
       "       [ 0.34359959],\n",
       "       [-1.51061393],\n",
       "       [ 0.60333869],\n",
       "       [-1.50956045],\n",
       "       [-0.81053766],\n",
       "       [ 0.31889898],\n",
       "       [-1.27137957],\n",
       "       [ 0.32551342],\n",
       "       [ 1.41229058],\n",
       "       [ 1.20657081],\n",
       "       [-1.2292814 ],\n",
       "       [ 0.39204814],\n",
       "       [ 0.13091064],\n",
       "       [ 1.5967399 ],\n",
       "       [ 0.56836428],\n",
       "       [ 0.05893773],\n",
       "       [-0.98321243],\n",
       "       [ 1.52430938],\n",
       "       [ 0.43180816],\n",
       "       [ 0.26517137],\n",
       "       [ 1.55482085],\n",
       "       [-1.25979582],\n",
       "       [-1.17052713],\n",
       "       [-1.05347935],\n",
       "       [-0.82201443],\n",
       "       [-0.46823846],\n",
       "       [-0.67885896],\n",
       "       [-0.12130338],\n",
       "       [ 1.43180858],\n",
       "       [-1.639778  ],\n",
       "       [-0.68123744],\n",
       "       [ 1.12936304],\n",
       "       [-0.43416079],\n",
       "       [ 1.54795928],\n",
       "       [ 0.5836212 ],\n",
       "       [ 1.31110993],\n",
       "       [-1.62449453],\n",
       "       [ 0.3376152 ],\n",
       "       [ 1.07633853],\n",
       "       [ 1.58082408],\n",
       "       [-1.58987201],\n",
       "       [ 1.61119062],\n",
       "       [-0.38705644],\n",
       "       [-0.46474917],\n",
       "       [-1.58380797],\n",
       "       [ 1.09155191],\n",
       "       [-0.94186169],\n",
       "       [-0.04407394],\n",
       "       [-0.59054141],\n",
       "       [-0.14419936],\n",
       "       [ 0.32706153],\n",
       "       [-0.54742626],\n",
       "       [ 0.33355157],\n",
       "       [-0.83372641],\n",
       "       [-0.68892198],\n",
       "       [-1.31400326],\n",
       "       [-0.80888082],\n",
       "       [ 1.40301608],\n",
       "       [ 0.37392567],\n",
       "       [-1.21291662],\n",
       "       [ 0.80964905],\n",
       "       [ 0.01666436],\n",
       "       [-1.5481191 ],\n",
       "       [-0.81760242],\n",
       "       [ 0.44388355],\n",
       "       [ 0.9884534 ],\n",
       "       [-0.80311497],\n",
       "       [-1.5477154 ],\n",
       "       [ 0.01166418],\n",
       "       [-0.28725302],\n",
       "       [ 1.6170298 ],\n",
       "       [-0.6775471 ],\n",
       "       [-0.48020027],\n",
       "       [ 0.04682867],\n",
       "       [ 1.14798294],\n",
       "       [-0.39655092],\n",
       "       [ 0.09897546],\n",
       "       [-0.57840625],\n",
       "       [ 0.6916325 ],\n",
       "       [ 0.35771184],\n",
       "       [ 0.50022759],\n",
       "       [ 1.46646857],\n",
       "       [ 1.30636538],\n",
       "       [-0.02140672],\n",
       "       [ 0.88915618],\n",
       "       [ 0.85612714],\n",
       "       [-0.46571261],\n",
       "       [-0.57120567],\n",
       "       [-1.16547367],\n",
       "       [ 0.86159318],\n",
       "       [ 0.58365183],\n",
       "       [-0.24126765],\n",
       "       [-1.60893715],\n",
       "       [-0.92948361],\n",
       "       [-1.53872479],\n",
       "       [-1.56688944],\n",
       "       [ 0.53561304],\n",
       "       [-1.16434491],\n",
       "       [-0.9222119 ],\n",
       "       [ 0.95700599],\n",
       "       [-1.54031522],\n",
       "       [-0.13990036],\n",
       "       [ 0.77961292],\n",
       "       [ 0.85700901],\n",
       "       [-0.47898335],\n",
       "       [-1.57739441],\n",
       "       [ 0.86769066],\n",
       "       [-0.57530902],\n",
       "       [ 0.38158574],\n",
       "       [ 0.54934453],\n",
       "       [-0.78513673],\n",
       "       [ 1.21779619],\n",
       "       [ 0.20541365],\n",
       "       [-0.60388458],\n",
       "       [-0.45948426],\n",
       "       [ 1.26718528],\n",
       "       [ 1.24707553],\n",
       "       [ 1.24274357],\n",
       "       [ 1.28391338],\n",
       "       [-1.63555347],\n",
       "       [-1.26433213],\n",
       "       [-1.292244  ],\n",
       "       [ 0.4181944 ],\n",
       "       [ 0.11865127],\n",
       "       [ 0.74413771],\n",
       "       [-0.29429327],\n",
       "       [ 1.20343902],\n",
       "       [-1.07703092],\n",
       "       [-0.6174339 ],\n",
       "       [ 0.2297347 ],\n",
       "       [ 0.44433831],\n",
       "       [ 0.0529694 ],\n",
       "       [-1.28339994],\n",
       "       [ 0.59452785],\n",
       "       [ 0.19029099],\n",
       "       [-0.47661201],\n",
       "       [ 1.24202044],\n",
       "       [ 0.18538034],\n",
       "       [ 0.66087405],\n",
       "       [-0.86733934],\n",
       "       [ 1.49744027],\n",
       "       [-1.40840586],\n",
       "       [ 1.21460149],\n",
       "       [-1.26311627],\n",
       "       [-0.58646314],\n",
       "       [-0.32261787],\n",
       "       [ 1.11717589],\n",
       "       [ 0.93195878],\n",
       "       [-0.91959575],\n",
       "       [-0.85301148],\n",
       "       [-0.35365875],\n",
       "       [ 0.83933674],\n",
       "       [ 0.37600888],\n",
       "       [-0.31539333],\n",
       "       [ 1.23707203],\n",
       "       [ 0.27992546],\n",
       "       [-0.59696853],\n",
       "       [ 0.21953764],\n",
       "       [-1.35733247],\n",
       "       [ 0.63065453],\n",
       "       [-1.65273059],\n",
       "       [-0.04230147],\n",
       "       [ 1.32327837],\n",
       "       [ 1.48919363],\n",
       "       [ 1.4271809 ],\n",
       "       [ 1.50955843],\n",
       "       [ 1.21082627],\n",
       "       [-0.66011814],\n",
       "       [ 0.97690156],\n",
       "       [ 0.04725794],\n",
       "       [ 0.82079893],\n",
       "       [-0.84613012],\n",
       "       [-0.47555964],\n",
       "       [ 0.99637445],\n",
       "       [ 0.71518052],\n",
       "       [-0.81387222],\n",
       "       [ 0.09666769],\n",
       "       [-0.13029571],\n",
       "       [ 1.29776238],\n",
       "       [-1.60126461],\n",
       "       [-0.96038686],\n",
       "       [ 0.95977968],\n",
       "       [ 1.62162142],\n",
       "       [ 0.57490906],\n",
       "       [-1.57105587],\n",
       "       [-0.89267416],\n",
       "       [-1.16671822],\n",
       "       [ 0.12179367],\n",
       "       [-1.63312712],\n",
       "       [-0.90006429],\n",
       "       [ 1.46728294],\n",
       "       [-0.38927245],\n",
       "       [ 1.06980499],\n",
       "       [ 1.32676206],\n",
       "       [ 1.28891292],\n",
       "       [ 0.74864529],\n",
       "       [ 1.2675681 ],\n",
       "       [ 1.16597303],\n",
       "       [-1.31720479],\n",
       "       [ 0.38213324],\n",
       "       [-1.04272114],\n",
       "       [-1.23436852],\n",
       "       [ 0.16971472],\n",
       "       [ 1.61412114],\n",
       "       [ 1.3837511 ],\n",
       "       [-1.40444437],\n",
       "       [ 0.73214507],\n",
       "       [ 1.44125921],\n",
       "       [-0.44366342],\n",
       "       [-0.10944203],\n",
       "       [ 0.28252027],\n",
       "       [ 1.31712162],\n",
       "       [-1.37955814],\n",
       "       [-0.78771215],\n",
       "       [ 0.48590255],\n",
       "       [-1.51053209],\n",
       "       [-1.41501565],\n",
       "       [ 0.73311233],\n",
       "       [-0.83506407],\n",
       "       [ 1.2716734 ],\n",
       "       [ 0.46984773],\n",
       "       [ 0.87115551],\n",
       "       [ 1.62494408],\n",
       "       [-1.40743014],\n",
       "       [ 0.60043825],\n",
       "       [ 0.58376342],\n",
       "       [-1.33628676],\n",
       "       [ 0.02837515],\n",
       "       [ 1.57521249],\n",
       "       [ 1.34210627],\n",
       "       [ 1.40504882],\n",
       "       [-1.31775703],\n",
       "       [ 0.85547844],\n",
       "       [-0.93185982],\n",
       "       [-1.08812106],\n",
       "       [-1.4018751 ],\n",
       "       [-0.71423557],\n",
       "       [-1.12703991],\n",
       "       [ 1.03898707],\n",
       "       [ 1.24878202],\n",
       "       [-1.17827558],\n",
       "       [ 0.42994754],\n",
       "       [ 0.86337394],\n",
       "       [ 1.14463666],\n",
       "       [ 0.95025772],\n",
       "       [-0.1211102 ],\n",
       "       [ 1.57114347],\n",
       "       [ 1.31786954],\n",
       "       [-0.49687883],\n",
       "       [ 0.98639446],\n",
       "       [-0.71706636],\n",
       "       [-0.69888809],\n",
       "       [ 0.3376676 ],\n",
       "       [-0.95393328],\n",
       "       [-0.17833995],\n",
       "       [ 0.67235192],\n",
       "       [ 0.39683467],\n",
       "       [-0.85961046],\n",
       "       [ 1.04593177],\n",
       "       [-0.5534634 ],\n",
       "       [-1.43656519],\n",
       "       [ 1.23828774],\n",
       "       [ 0.19702762],\n",
       "       [ 0.92243609],\n",
       "       [ 1.49281744],\n",
       "       [-0.91569303],\n",
       "       [ 0.90571688],\n",
       "       [ 0.77606569],\n",
       "       [ 1.05106727],\n",
       "       [-0.5817155 ],\n",
       "       [ 0.18791178],\n",
       "       [-0.59946021],\n",
       "       [-1.48198979],\n",
       "       [-1.4120805 ],\n",
       "       [ 0.2129667 ],\n",
       "       [ 0.72761764],\n",
       "       [-1.58886876],\n",
       "       [-1.26964345],\n",
       "       [ 0.12436311],\n",
       "       [ 0.66908174],\n",
       "       [ 1.36083755],\n",
       "       [-1.16346548],\n",
       "       [ 0.07844986],\n",
       "       [-0.17588718],\n",
       "       [ 1.54019191],\n",
       "       [-0.72568815],\n",
       "       [ 0.98100363],\n",
       "       [-1.37842101],\n",
       "       [-1.28509455],\n",
       "       [-0.1877516 ],\n",
       "       [-0.06046559],\n",
       "       [-1.04026109],\n",
       "       [ 1.4023029 ],\n",
       "       [-0.77541863],\n",
       "       [ 0.92238757],\n",
       "       [ 0.60205322],\n",
       "       [ 0.54575541],\n",
       "       [ 1.04654529],\n",
       "       [ 1.41180963],\n",
       "       [ 1.16536299],\n",
       "       [-0.10823872],\n",
       "       [ 0.82084828],\n",
       "       [ 1.51639037],\n",
       "       [ 1.6290813 ],\n",
       "       [ 0.51689142],\n",
       "       [-1.57285821],\n",
       "       [ 0.88840531],\n",
       "       [-1.23485469],\n",
       "       [-0.17619314],\n",
       "       [-0.02459067],\n",
       "       [-0.00198157],\n",
       "       [-0.37133349],\n",
       "       [-1.53487106],\n",
       "       [-0.62700961],\n",
       "       [-1.3245085 ],\n",
       "       [-0.82972747],\n",
       "       [ 1.65617781],\n",
       "       [-1.40568819],\n",
       "       [ 0.96730148],\n",
       "       [-1.21767533],\n",
       "       [-0.80547978],\n",
       "       [-1.01123953],\n",
       "       [-1.16654231],\n",
       "       [ 1.21583449],\n",
       "       [-1.16364342]])"
      ]
     },
     "execution_count": 19,
     "metadata": {},
     "output_type": "execute_result"
    }
   ],
   "source": [
    "pred"
   ]
  },
  {
   "cell_type": "markdown",
   "metadata": {},
   "source": [
    "Obtenemos el error del modelo"
   ]
  },
  {
   "cell_type": "code",
   "execution_count": 20,
   "metadata": {},
   "outputs": [
    {
     "data": {
      "text/plain": [
       "0    0.052736\n",
       "dtype: float64"
      ]
     },
     "execution_count": 20,
     "metadata": {},
     "output_type": "execute_result"
    }
   ],
   "source": [
    "np.mean((pred-Yscaler)**2)"
   ]
  },
  {
   "cell_type": "markdown",
   "metadata": {},
   "source": [
    "Hacemos la primera iteración del error de manera manual y usando eta=0.05"
   ]
  },
  {
   "cell_type": "code",
   "execution_count": 27,
   "metadata": {
    "collapsed": true
   },
   "outputs": [],
   "source": [
    "#calculamos una serie de valores para wo y w1\n",
    "w0 = linReg.intercept_\n",
    "w1 = linReg.coef_[0]"
   ]
  },
  {
   "cell_type": "code",
   "execution_count": 30,
   "metadata": {},
   "outputs": [
    {
     "data": {
      "text/plain": [
       "array([  8.96519872e-17])"
      ]
     },
     "execution_count": 30,
     "metadata": {},
     "output_type": "execute_result"
    }
   ],
   "source": [
    "w0"
   ]
  },
  {
   "cell_type": "markdown",
   "metadata": {},
   "source": [
    "Generamos los nuevos parametros w0 y w1, usando la regla wi <---wi + n(y-V^(X))xi"
   ]
  },
  {
   "cell_type": "code",
   "execution_count": 32,
   "metadata": {
    "collapsed": true
   },
   "outputs": [],
   "source": [
    "w0_g=w0+(0.5*(Yscaler-pred)*Xscaler)\n",
    "w1_g=w1+(0.5*(Yscaler-pred)*Xscaler)"
   ]
  },
  {
   "cell_type": "markdown",
   "metadata": {},
   "source": [
    "Calculamos la nueva V^(X) con los nuevos parámetros"
   ]
  },
  {
   "cell_type": "code",
   "execution_count": 33,
   "metadata": {
    "collapsed": true
   },
   "outputs": [],
   "source": [
    "v_x1=w0_g+(w1_g*Xscaler)"
   ]
  },
  {
   "cell_type": "markdown",
   "metadata": {},
   "source": [
    "Calculamos el nuevo error y lo comparamos con el anterior"
   ]
  },
  {
   "cell_type": "code",
   "execution_count": 35,
   "metadata": {},
   "outputs": [
    {
     "data": {
      "text/plain": [
       "0    0.052736\n",
       "dtype: float64"
      ]
     },
     "execution_count": 35,
     "metadata": {},
     "output_type": "execute_result"
    }
   ],
   "source": [
    "np.mean((Yscaler-pred)**2)"
   ]
  },
  {
   "cell_type": "code",
   "execution_count": 36,
   "metadata": {},
   "outputs": [
    {
     "data": {
      "text/plain": [
       "0    0.037398\n",
       "dtype: float64"
      ]
     },
     "execution_count": 36,
     "metadata": {},
     "output_type": "execute_result"
    }
   ],
   "source": [
    "np.mean((Yscaler-v_x1)**2)"
   ]
  },
  {
   "cell_type": "markdown",
   "metadata": {},
   "source": [
    "Podemos observar que el nuevo error es menor. Para poder hacer mpas iteraciones tenemos que buscar una manera de que lo procese a manera de loop y se detenga después de un cierto numero de iteraciones"
   ]
  },
  {
   "cell_type": "markdown",
   "metadata": {},
   "source": [
    "Generamos una función que calcule la wo"
   ]
  },
  {
   "cell_type": "code",
   "execution_count": 56,
   "metadata": {},
   "outputs": [
    {
     "data": {
      "text/plain": [
       "0    0.057241\n",
       "dtype: float64"
      ]
     },
     "execution_count": 56,
     "metadata": {},
     "output_type": "execute_result"
    }
   ],
   "source": [
    "np.mean((salida(w0, w1, Xscaler)-Yscaler)**2)"
   ]
  },
  {
   "cell_type": "code",
   "execution_count": 53,
   "metadata": {
    "collapsed": true
   },
   "outputs": [],
   "source": [
    "def salida (w0, W, X1):\n",
    "    V_X = w0\n",
    "    V_X = V_X + (W* X1)\n",
    "    return V_X"
   ]
  },
  {
   "cell_type": "code",
   "execution_count": 69,
   "metadata": {
    "collapsed": true
   },
   "outputs": [],
   "source": [
    "def entrena (w0, W, X, Y, nu):\n",
    "    for i in range (len(X)):\n",
    "        X1 = X.iloc[i]\n",
    "        sal = salida(w0, W, X1)\n",
    "        error=Y.iloc[i] - sal\n",
    "        w0 = w0 + (nu*error)\n",
    "        W = W + (nu*error*X.iloc[i])\n",
    "    return w0,W    "
   ]
  },
  {
   "cell_type": "code",
   "execution_count": 71,
   "metadata": {
    "collapsed": true
   },
   "outputs": [],
   "source": [
    "ent=entrena(w0,w1, Xscaler, Yscaler,0.5)"
   ]
  },
  {
   "cell_type": "markdown",
   "metadata": {},
   "source": [
    "Calculamos el nuevo v_x con los nuevos parametros"
   ]
  },
  {
   "cell_type": "code",
   "execution_count": 77,
   "metadata": {
    "collapsed": true
   },
   "outputs": [],
   "source": [
    "v_x_it=ent[0]+(ent[1]*Xscaler)"
   ]
  },
  {
   "cell_type": "markdown",
   "metadata": {},
   "source": [
    "Calculamos el nuevo error"
   ]
  },
  {
   "cell_type": "code",
   "execution_count": 78,
   "metadata": {},
   "outputs": [
    {
     "data": {
      "text/plain": [
       "0    0.069193\n",
       "dtype: float64"
      ]
     },
     "execution_count": 78,
     "metadata": {},
     "output_type": "execute_result"
    }
   ],
   "source": [
    "np.mean((Yscaler-v_x_it)**2)"
   ]
  }
 ],
 "metadata": {
  "kernelspec": {
   "display_name": "Python 2",
   "language": "python",
   "name": "python2"
  },
  "language_info": {
   "codemirror_mode": {
    "name": "ipython",
    "version": 2
   },
   "file_extension": ".py",
   "mimetype": "text/x-python",
   "name": "python",
   "nbconvert_exporter": "python",
   "pygments_lexer": "ipython2",
   "version": "2.7.13"
  }
 },
 "nbformat": 4,
 "nbformat_minor": 2
}
