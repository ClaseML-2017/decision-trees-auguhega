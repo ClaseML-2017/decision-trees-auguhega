{
 "cells": [
  {
   "cell_type": "markdown",
   "metadata": {},
   "source": [
    "# Ejercicio chabelo "
   ]
  },
  {
   "cell_type": "markdown",
   "metadata": {},
   "source": [
    "Queremos simular el problema de Monty Hall, que consiste en un concurso en el que el participante tiene que seleccionar una de tres puertas. Una vez seleccionada la puerta, el presentador abre una de las dos puertas no seleccionadas para mostrar al participante una puerta vacía y ofrece la posibilidad de cambiar la puerta. El objetivo de la simulación es probar que cuando el participante se queda con la puerta original tiene 33% de probabilidad de ganar, mientras que cuando cambia a la puerta que no abrio el presentador tiene 66% de probabilidad de ganar"
   ]
  },
  {
   "cell_type": "code",
   "execution_count": 3,
   "metadata": {
    "collapsed": true
   },
   "outputs": [],
   "source": [
    "import random as rand"
   ]
  },
  {
   "cell_type": "markdown",
   "metadata": {},
   "source": [
    "Establecemos el numero de experimentos"
   ]
  },
  {
   "cell_type": "code",
   "execution_count": 2,
   "metadata": {
    "collapsed": true
   },
   "outputs": [],
   "source": [
    "experiments=10"
   ]
  },
  {
   "cell_type": "markdown",
   "metadata": {},
   "source": [
    "Generamos un aleatorio entre 3 números que simule el número de puerta que tiene el premio"
   ]
  },
  {
   "cell_type": "code",
   "execution_count": 4,
   "metadata": {
    "collapsed": true
   },
   "outputs": [],
   "source": [
    "prize=[rand.randint(0,2) for i in range(experiments)]"
   ]
  },
  {
   "cell_type": "markdown",
   "metadata": {},
   "source": [
    "Generamos un aleatorio similar, pero ahora para la puerta que selecciona el participante"
   ]
  },
  {
   "cell_type": "code",
   "execution_count": 5,
   "metadata": {
    "collapsed": true
   },
   "outputs": [],
   "source": [
    "my_choice=[rand.randint(0,2)for i in range(experiments)]"
   ]
  },
  {
   "cell_type": "markdown",
   "metadata": {},
   "source": [
    "Usamos un for para seleccionar una de las puertas no seleccionadas por el participante ni con el premio para que sea la abierta por Chabelo"
   ]
  },
  {
   "cell_type": "code",
   "execution_count": 25,
   "metadata": {
    "collapsed": true
   },
   "outputs": [],
   "source": [
    "chabelo=[]\n",
    "for i in range(experiments):\n",
    "    if my_choice[i]!=prize[i]: #the other available door\n",
    "        chabelo.append([x for x in [0,1,2]\n",
    "                       if x!=my_choice[i] and x!=prize[i]][0])\n",
    "    else:\n",
    "        chabelo.append(rand.choice([x for x in [0,1,2]\n",
    "                       if x!=my_choice[i]]))"
   ]
  },
  {
   "cell_type": "markdown",
   "metadata": {},
   "source": [
    "Creamos una lista con la puerta que seleccionaria el participante si cambia"
   ]
  },
  {
   "cell_type": "code",
   "execution_count": 26,
   "metadata": {
    "collapsed": true
   },
   "outputs": [],
   "source": [
    "cambio=[]\n",
    "for i in range(experiments):\n",
    "    cambio.append([x for x in [0,1,2]\n",
    "                   if x!=my_choice[i] and x!=chabelo[i]][0])"
   ]
  },
  {
   "cell_type": "markdown",
   "metadata": {},
   "source": [
    "Vemos las tres listas creadas para revisar que my choice, chabelo y cambio no tengan numeros repetidos"
   ]
  },
  {
   "cell_type": "code",
   "execution_count": 27,
   "metadata": {},
   "outputs": [
    {
     "data": {
      "text/plain": [
       "([0, 0, 1, 2, 0, 2, 1, 0, 1, 0],\n",
       " [0, 2, 2, 0, 0, 0, 0, 1, 0, 1],\n",
       " [2, 1, 0, 1, 2, 1, 2, 2, 2, 2],\n",
       " [1, 0, 1, 2, 1, 2, 1, 0, 1, 0])"
      ]
     },
     "execution_count": 27,
     "metadata": {},
     "output_type": "execute_result"
    }
   ],
   "source": [
    "prize, my_choice, chabelo, cambio"
   ]
  },
  {
   "cell_type": "markdown",
   "metadata": {},
   "source": [
    "Una vez que tenemos la simulación de la puerta con el premio, la puerta elegida y la puerta abierta, podemos determinar la probabilidad de ganar si cambia de puerta y si no. Primero, hacemos una lista que asigne uno cuando la decision del participante es igual al premio y 0 en otro caso y con esto calculamos la probabilidad de que gane si se queda con la puerta que eligio inicialmente"
   ]
  },
  {
   "cell_type": "code",
   "execution_count": 13,
   "metadata": {},
   "outputs": [],
   "source": [
    "res_selec=[]\n",
    "w=1\n",
    "l=0\n",
    "for i in range (experiments):\n",
    "    if my_choice[i]== prize[i]:\n",
    "        res_selec.append(w)\n",
    "    else:\n",
    "        res_selec.append(l)"
   ]
  },
  {
   "cell_type": "code",
   "execution_count": 15,
   "metadata": {},
   "outputs": [
    {
     "data": {
      "text/plain": [
       "[1, 0, 0, 0, 1, 0, 0, 0, 0, 0]"
      ]
     },
     "execution_count": 15,
     "metadata": {},
     "output_type": "execute_result"
    }
   ],
   "source": [
    "res_selec"
   ]
  },
  {
   "cell_type": "code",
   "execution_count": 22,
   "metadata": {},
   "outputs": [
    {
     "data": {
      "text/plain": [
       "0.2"
      ]
     },
     "execution_count": 22,
     "metadata": {},
     "output_type": "execute_result"
    }
   ],
   "source": [
    "sum(res_selec)/float(len(res_selec))"
   ]
  },
  {
   "cell_type": "markdown",
   "metadata": {},
   "source": [
    "Por otro lado, hacemos el mismo proceso para calcular la probabilidad de que l prticipante gane si cambia de puerta"
   ]
  },
  {
   "cell_type": "code",
   "execution_count": 28,
   "metadata": {},
   "outputs": [],
   "source": [
    "res_cambio=[]\n",
    "w=1\n",
    "l=0\n",
    "for i in range (experiments):\n",
    "    if cambio[i]== prize[i]:\n",
    "        res_cambio.append(w)\n",
    "    else:\n",
    "        res_cambio.append(l)"
   ]
  },
  {
   "cell_type": "code",
   "execution_count": 29,
   "metadata": {},
   "outputs": [
    {
     "data": {
      "text/plain": [
       "0.8"
      ]
     },
     "execution_count": 29,
     "metadata": {},
     "output_type": "execute_result"
    }
   ],
   "source": [
    "sum(res_cambio)/float(len(res_cambio))"
   ]
  }
 ],
 "metadata": {
  "kernelspec": {
   "display_name": "Python 2",
   "language": "python",
   "name": "python2"
  },
  "language_info": {
   "codemirror_mode": {
    "name": "ipython",
    "version": 2
   },
   "file_extension": ".py",
   "mimetype": "text/x-python",
   "name": "python",
   "nbconvert_exporter": "python",
   "pygments_lexer": "ipython2",
   "version": "2.7.13"
  }
 },
 "nbformat": 4,
 "nbformat_minor": 1
}
