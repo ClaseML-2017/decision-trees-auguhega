{
 "cells": [
  {
   "cell_type": "markdown",
   "metadata": {},
   "source": [
    "# Cross Validation"
   ]
  },
  {
   "cell_type": "code",
   "execution_count": 1,
   "metadata": {
    "collapsed": true
   },
   "outputs": [],
   "source": [
    "import pandas as pd\n",
    "import numpy as np\n",
    "import csv\n",
    "import random as rnd\n",
    "from sklearn.model_selection import train_test_split\n",
    "from sklearn.linear_model import LinearRegression\n",
    "from sklearn import preprocessing\n",
    "import matplotlib.pyplot as plt\n",
    "%matplotlib inline"
   ]
  },
  {
   "cell_type": "code",
   "execution_count": 2,
   "metadata": {
    "collapsed": true
   },
   "outputs": [],
   "source": [
    "df=pd.read_csv('regLinPoli.csv')"
   ]
  },
  {
   "cell_type": "code",
   "execution_count": 3,
   "metadata": {
    "scrolled": true
   },
   "outputs": [
    {
     "data": {
      "text/html": [
       "<div>\n",
       "<style>\n",
       "    .dataframe thead tr:only-child th {\n",
       "        text-align: right;\n",
       "    }\n",
       "\n",
       "    .dataframe thead th {\n",
       "        text-align: left;\n",
       "    }\n",
       "\n",
       "    .dataframe tbody tr th {\n",
       "        vertical-align: top;\n",
       "    }\n",
       "</style>\n",
       "<table border=\"1\" class=\"dataframe\">\n",
       "  <thead>\n",
       "    <tr style=\"text-align: right;\">\n",
       "      <th></th>\n",
       "      <th>X</th>\n",
       "      <th>X2</th>\n",
       "      <th>X3</th>\n",
       "      <th>X4</th>\n",
       "      <th>y</th>\n",
       "    </tr>\n",
       "  </thead>\n",
       "  <tbody>\n",
       "    <tr>\n",
       "      <th>0</th>\n",
       "      <td>7.317938</td>\n",
       "      <td>53.552216</td>\n",
       "      <td>1.683319</td>\n",
       "      <td>0.859736</td>\n",
       "      <td>20.716319</td>\n",
       "    </tr>\n",
       "    <tr>\n",
       "      <th>1</th>\n",
       "      <td>1.284357</td>\n",
       "      <td>1.649574</td>\n",
       "      <td>3.395139</td>\n",
       "      <td>0.959256</td>\n",
       "      <td>8.098008</td>\n",
       "    </tr>\n",
       "    <tr>\n",
       "      <th>2</th>\n",
       "      <td>97.740652</td>\n",
       "      <td>9553.235088</td>\n",
       "      <td>0.366480</td>\n",
       "      <td>-0.344100</td>\n",
       "      <td>5992.603427</td>\n",
       "    </tr>\n",
       "    <tr>\n",
       "      <th>3</th>\n",
       "      <td>17.753591</td>\n",
       "      <td>315.190006</td>\n",
       "      <td>-1.945300</td>\n",
       "      <td>-0.889370</td>\n",
       "      <td>199.959361</td>\n",
       "    </tr>\n",
       "    <tr>\n",
       "      <th>4</th>\n",
       "      <td>66.441081</td>\n",
       "      <td>4414.417290</td>\n",
       "      <td>0.504995</td>\n",
       "      <td>-0.450777</td>\n",
       "      <td>2384.624168</td>\n",
       "    </tr>\n",
       "  </tbody>\n",
       "</table>\n",
       "</div>"
      ],
      "text/plain": [
       "           X           X2        X3        X4            y\n",
       "0   7.317938    53.552216  1.683319  0.859736    20.716319\n",
       "1   1.284357     1.649574  3.395139  0.959256     8.098008\n",
       "2  97.740652  9553.235088  0.366480 -0.344100  5992.603427\n",
       "3  17.753591   315.190006 -1.945300 -0.889370   199.959361\n",
       "4  66.441081  4414.417290  0.504995 -0.450777  2384.624168"
      ]
     },
     "execution_count": 3,
     "metadata": {},
     "output_type": "execute_result"
    }
   ],
   "source": [
    "df.head()"
   ]
  },
  {
   "cell_type": "code",
   "execution_count": 4,
   "metadata": {},
   "outputs": [
    {
     "data": {
      "text/plain": [
       "1029"
      ]
     },
     "execution_count": 4,
     "metadata": {},
     "output_type": "execute_result"
    }
   ],
   "source": [
    "len(df)"
   ]
  },
  {
   "cell_type": "markdown",
   "metadata": {},
   "source": [
    "## Incremental regularized regression procedures"
   ]
  },
  {
   "cell_type": "code",
   "execution_count": 5,
   "metadata": {
    "collapsed": true
   },
   "outputs": [],
   "source": [
    "def salida (w0, W, X1):\n",
    "    V_X = w0\n",
    "    for k in range(len(W)):\n",
    "        V_X = V_X + (W[k]* X1[k])\n",
    "    return V_X"
   ]
  },
  {
   "cell_type": "code",
   "execution_count": 6,
   "metadata": {
    "collapsed": true
   },
   "outputs": [],
   "source": [
    "def entrena (w0, W, X, Y, nu, lam):\n",
    "    for i in range (len(X)):\n",
    "        X1 = X.iloc[i]\n",
    "        sal = salida(w0, W, X1)\n",
    "        error=Y.iloc[i] - sal\n",
    "        w0 = w0 + (nu*error)\n",
    "        for j in range(len(X1)):\n",
    "            W[j] = W[j] + (nu*error*X.iloc[i][j]) - (lam*W[j])\n",
    "    return w0,W"
   ]
  },
  {
   "cell_type": "markdown",
   "metadata": {},
   "source": [
    "Para poder usar el método de cross validation, tenemos que hacer k subconjuntos. Una vez elaborados los k subconjuntos, tomamos uno de ellos y lo usamos como el conjunto de validación, mientras que el resto los usameos de conjunto de entrenamiento. Repetimos el proceso para los k subconjuntos y posteriormente tmamos un promedio de los parámetros obtenidos"
   ]
  },
  {
   "cell_type": "markdown",
   "metadata": {},
   "source": [
    "## Hacemos el ejercicio con k=1"
   ]
  },
  {
   "cell_type": "code",
   "execution_count": 77,
   "metadata": {
    "collapsed": true
   },
   "outputs": [],
   "source": [
    "k1_test=df.loc[0:206]\n",
    "k1_train=df.loc[207:1030]"
   ]
  },
  {
   "cell_type": "code",
   "execution_count": 78,
   "metadata": {
    "collapsed": true
   },
   "outputs": [],
   "source": [
    "k1_test_x=k1_test[['X','X2', 'X3', 'X4']]\n",
    "k1_test_y=k1_test[['y']]\n",
    "k1_train_x=k1_train[['X','X2', 'X3', 'X4']]\n",
    "k1_train_y=k1_train[['y']]"
   ]
  },
  {
   "cell_type": "code",
   "execution_count": 79,
   "metadata": {
    "collapsed": true
   },
   "outputs": [],
   "source": [
    "X_scaler_p = preprocessing.StandardScaler().fit(k1_test_x)\n",
    "Y_scaler_p = preprocessing.StandardScaler().fit(k1_test_y)\n",
    "X_scaler = preprocessing.StandardScaler().fit(k1_train_x)\n",
    "Y_scaler = preprocessing.StandardScaler().fit(k1_train_y)"
   ]
  },
  {
   "cell_type": "code",
   "execution_count": 80,
   "metadata": {
    "collapsed": true
   },
   "outputs": [],
   "source": [
    "Xscaler_p = X_scaler.transform(k1_test_x)\n",
    "Yscaler_p = Y_scaler.transform(k1_test_y)\n",
    "Xscaler = X_scaler_p.transform(k1_train_x)\n",
    "Yscaler = Y_scaler_p.transform(k1_train_y)"
   ]
  },
  {
   "cell_type": "code",
   "execution_count": 81,
   "metadata": {
    "collapsed": true
   },
   "outputs": [],
   "source": [
    "Xscaler = pd.DataFrame(Xscaler)\n",
    "Yscaler = pd.DataFrame(Yscaler)\n",
    "Xscaler_p = pd.DataFrame(Xscaler_p)\n",
    "Yscaler_p = pd.DataFrame(Yscaler_p)"
   ]
  },
  {
   "cell_type": "code",
   "execution_count": 82,
   "metadata": {},
   "outputs": [
    {
     "data": {
      "text/plain": [
       "LinearRegression(copy_X=True, fit_intercept=True, n_jobs=1, normalize=False)"
      ]
     },
     "execution_count": 82,
     "metadata": {},
     "output_type": "execute_result"
    }
   ],
   "source": [
    "linReg=LinearRegression()\n",
    "linReg.fit(Xscaler, Yscaler)"
   ]
  },
  {
   "cell_type": "code",
   "execution_count": 83,
   "metadata": {},
   "outputs": [
    {
     "name": "stdout",
     "output_type": "stream",
     "text": [
      "[ 0.00103272] 0.0223323796105 0.986856528998 -0.000577749116089 -0.0107970374231\n"
     ]
    }
   ],
   "source": [
    "print linReg.intercept_,  linReg.coef_[0][0], linReg.coef_[0][1], linReg.coef_[0][2], linReg.coef_[0][3]"
   ]
  },
  {
   "cell_type": "code",
   "execution_count": 84,
   "metadata": {},
   "outputs": [
    {
     "name": "stdout",
     "output_type": "stream",
     "text": [
      "[-4, 0, 4, -1]\n"
     ]
    }
   ],
   "source": [
    "#Obtenemos la regresión regularizada \n",
    "w0 = float(np.random.randint(-5,5,1))\n",
    "W = list(np.random.randint(-5,5,4))\n",
    "nu = 0.01\n",
    "lam = -.02\n",
    "print W"
   ]
  },
  {
   "cell_type": "code",
   "execution_count": 85,
   "metadata": {
    "collapsed": true
   },
   "outputs": [],
   "source": [
    "k1_param= entrena(w0, W, Xscaler, Yscaler, nu, lam)\n"
   ]
  },
  {
   "cell_type": "code",
   "execution_count": 86,
   "metadata": {
    "scrolled": true
   },
   "outputs": [
    {
     "data": {
      "text/plain": [
       "(0   -239812.949278\n",
       " dtype: float64, [0   -1.704237e+07\n",
       "  dtype: float64, 0    1.742733e+07\n",
       "  dtype: float64, 0   -1.531888e+06\n",
       "  dtype: float64, 0   -692129.550651\n",
       "  dtype: float64])"
      ]
     },
     "execution_count": 86,
     "metadata": {},
     "output_type": "execute_result"
    }
   ],
   "source": [
    "k1_param"
   ]
  },
  {
   "cell_type": "code",
   "execution_count": 87,
   "metadata": {
    "collapsed": true
   },
   "outputs": [],
   "source": [
    "y_k1=float(k1_param[0])+(Xscaler[0]*float(k1_param[1][0]))+(Xscaler[1]*float(k1_param[1][1]))+(Xscaler[2]*float(k1_param[1][2]))+(Xscaler[3]*float(k1_param[1][3]))\n"
   ]
  },
  {
   "cell_type": "code",
   "execution_count": 96,
   "metadata": {},
   "outputs": [],
   "source": [
    "error_k1=np.mean((Yscaler-pd.DataFrame(y_k1))**2)"
   ]
  },
  {
   "cell_type": "code",
   "execution_count": 97,
   "metadata": {},
   "outputs": [
    {
     "data": {
      "text/plain": [
       "0    1.140061e+14\n",
       "dtype: float64"
      ]
     },
     "execution_count": 97,
     "metadata": {},
     "output_type": "execute_result"
    }
   ],
   "source": [
    "error_k1"
   ]
  },
  {
   "cell_type": "code",
   "execution_count": 36,
   "metadata": {
    "collapsed": true
   },
   "outputs": [],
   "source": [
    "error_k1=np.mean((Yscaler-y_k1)**2)"
   ]
  },
  {
   "cell_type": "markdown",
   "metadata": {},
   "source": [
    "## Hacemos el mismo proceso para k2"
   ]
  },
  {
   "cell_type": "code",
   "execution_count": 98,
   "metadata": {
    "collapsed": true
   },
   "outputs": [],
   "source": [
    "k2_test=df.loc[207:412]\n",
    "k2_train1=df.loc[0:206]\n",
    "k2_train2=df.loc[413:1030]\n",
    "k2_train=k2_train1.append(k2_train2)"
   ]
  },
  {
   "cell_type": "code",
   "execution_count": 99,
   "metadata": {
    "collapsed": true
   },
   "outputs": [],
   "source": [
    "k2_test_x=k2_test[['X','X2', 'X3', 'X4']]\n",
    "k2_test_y=k2_test[['y']]\n",
    "k2_train_x=k2_train[['X','X2', 'X3', 'X4']]\n",
    "k2_train_y=k2_train[['y']]"
   ]
  },
  {
   "cell_type": "code",
   "execution_count": 100,
   "metadata": {
    "collapsed": true
   },
   "outputs": [],
   "source": [
    "X_scaler_p = preprocessing.StandardScaler().fit(k2_test_x)\n",
    "Y_scaler_p = preprocessing.StandardScaler().fit(k2_test_y)\n",
    "X_scaler = preprocessing.StandardScaler().fit(k2_train_x)\n",
    "Y_scaler = preprocessing.StandardScaler().fit(k2_train_y)"
   ]
  },
  {
   "cell_type": "code",
   "execution_count": 101,
   "metadata": {
    "collapsed": true
   },
   "outputs": [],
   "source": [
    "Xscaler_p = X_scaler.transform(k2_test_x)\n",
    "Yscaler_p = Y_scaler.transform(k2_test_y)\n",
    "Xscaler = X_scaler_p.transform(k2_train_x)\n",
    "Yscaler = Y_scaler_p.transform(k2_train_y)"
   ]
  },
  {
   "cell_type": "code",
   "execution_count": 102,
   "metadata": {
    "collapsed": true
   },
   "outputs": [],
   "source": [
    "Xscaler = pd.DataFrame(Xscaler)\n",
    "Yscaler = pd.DataFrame(Yscaler)\n",
    "Xscaler_p = pd.DataFrame(Xscaler_p)\n",
    "Yscaler_p = pd.DataFrame(Yscaler_p)"
   ]
  },
  {
   "cell_type": "code",
   "execution_count": 103,
   "metadata": {},
   "outputs": [
    {
     "data": {
      "text/plain": [
       "LinearRegression(copy_X=True, fit_intercept=True, n_jobs=1, normalize=False)"
      ]
     },
     "execution_count": 103,
     "metadata": {},
     "output_type": "execute_result"
    }
   ],
   "source": [
    "linReg=LinearRegression()\n",
    "linReg.fit(Xscaler, Yscaler)"
   ]
  },
  {
   "cell_type": "code",
   "execution_count": 104,
   "metadata": {},
   "outputs": [
    {
     "name": "stdout",
     "output_type": "stream",
     "text": [
      "[ 0.02199484] 0.0289034776744 0.980903422884 -0.0015041344545 -0.0103121949698\n"
     ]
    }
   ],
   "source": [
    "print linReg.intercept_,  linReg.coef_[0][0], linReg.coef_[0][1], linReg.coef_[0][2], linReg.coef_[0][3]"
   ]
  },
  {
   "cell_type": "code",
   "execution_count": 105,
   "metadata": {
    "collapsed": true
   },
   "outputs": [],
   "source": [
    "k2_param= entrena(w0, W, Xscaler, Yscaler, nu, lam)"
   ]
  },
  {
   "cell_type": "code",
   "execution_count": 106,
   "metadata": {
    "collapsed": true
   },
   "outputs": [],
   "source": [
    "y_k2=float(k2_param[0])+(Xscaler[0]*float(k2_param[1][0]))+(Xscaler[1]*float(k2_param[1][1]))+(Xscaler[2]*float(k2_param[1][2]))+(Xscaler[3]*float(k2_param[1][3]))"
   ]
  },
  {
   "cell_type": "code",
   "execution_count": 107,
   "metadata": {
    "collapsed": true
   },
   "outputs": [],
   "source": [
    "error_k2=np.mean((Yscaler-pd.DataFrame(y_k2))**2)"
   ]
  },
  {
   "cell_type": "markdown",
   "metadata": {},
   "source": [
    "## Hacemos lo mismo para k3 "
   ]
  },
  {
   "cell_type": "code",
   "execution_count": 108,
   "metadata": {
    "collapsed": true
   },
   "outputs": [],
   "source": [
    "k3_test=df.loc[413:618]\n",
    "k3_train1=df.loc[0:412]\n",
    "k3_train2=df.loc[619:1030]\n",
    "k3_train=k3_train1.append(k3_train2)"
   ]
  },
  {
   "cell_type": "code",
   "execution_count": 109,
   "metadata": {
    "collapsed": true
   },
   "outputs": [],
   "source": [
    "k3_test_x=k3_test[['X','X2', 'X3', 'X4']]\n",
    "k3_test_y=k3_test[['y']]\n",
    "k3_train_x=k3_train[['X','X2', 'X3', 'X4']]\n",
    "k3_train_y=k3_train[['y']]"
   ]
  },
  {
   "cell_type": "code",
   "execution_count": 110,
   "metadata": {
    "collapsed": true
   },
   "outputs": [],
   "source": [
    "X_scaler_p = preprocessing.StandardScaler().fit(k3_test_x)\n",
    "Y_scaler_p = preprocessing.StandardScaler().fit(k3_test_y)\n",
    "X_scaler = preprocessing.StandardScaler().fit(k3_train_x)\n",
    "Y_scaler = preprocessing.StandardScaler().fit(k3_train_y)"
   ]
  },
  {
   "cell_type": "code",
   "execution_count": 111,
   "metadata": {
    "collapsed": true
   },
   "outputs": [],
   "source": [
    "Xscaler_p = X_scaler.transform(k3_test_x)\n",
    "Yscaler_p = Y_scaler.transform(k3_test_y)\n",
    "Xscaler = X_scaler_p.transform(k3_train_x)\n",
    "Yscaler = Y_scaler_p.transform(k3_train_y)"
   ]
  },
  {
   "cell_type": "code",
   "execution_count": 112,
   "metadata": {
    "collapsed": true
   },
   "outputs": [],
   "source": [
    "Xscaler = pd.DataFrame(Xscaler)\n",
    "Yscaler = pd.DataFrame(Yscaler)\n",
    "Xscaler_p = pd.DataFrame(Xscaler_p)\n",
    "Yscaler_p = pd.DataFrame(Yscaler_p)"
   ]
  },
  {
   "cell_type": "code",
   "execution_count": 113,
   "metadata": {},
   "outputs": [
    {
     "data": {
      "text/plain": [
       "LinearRegression(copy_X=True, fit_intercept=True, n_jobs=1, normalize=False)"
      ]
     },
     "execution_count": 113,
     "metadata": {},
     "output_type": "execute_result"
    }
   ],
   "source": [
    "linReg=LinearRegression()\n",
    "linReg.fit(Xscaler, Yscaler)"
   ]
  },
  {
   "cell_type": "code",
   "execution_count": 114,
   "metadata": {
    "collapsed": true
   },
   "outputs": [],
   "source": [
    "k3_param= entrena(w0, W, Xscaler, Yscaler, nu, lam)"
   ]
  },
  {
   "cell_type": "code",
   "execution_count": 115,
   "metadata": {
    "collapsed": true
   },
   "outputs": [],
   "source": [
    "y_k3=float(k3_param[0])+(Xscaler[0]*float(k3_param[1][0]))+(Xscaler[1]*float(k3_param[1][1]))+(Xscaler[2]*float(k3_param[1][2]))+(Xscaler[3]*float(k3_param[1][3]))"
   ]
  },
  {
   "cell_type": "code",
   "execution_count": 116,
   "metadata": {
    "collapsed": true
   },
   "outputs": [],
   "source": [
    "error_k3=np.mean((Yscaler-pd.DataFrame(y_k3))**2)"
   ]
  },
  {
   "cell_type": "markdown",
   "metadata": {},
   "source": [
    "## Hacemos lo mismo para k4"
   ]
  },
  {
   "cell_type": "code",
   "execution_count": 117,
   "metadata": {
    "collapsed": true
   },
   "outputs": [],
   "source": [
    "k4_test=df.loc[619:824]\n",
    "k4_train1=df.loc[0:618]\n",
    "k4_train2=df.loc[825:1030]\n",
    "k4_train=k4_train1.append(k4_train2)"
   ]
  },
  {
   "cell_type": "code",
   "execution_count": 118,
   "metadata": {
    "collapsed": true
   },
   "outputs": [],
   "source": [
    "k4_test_x=k4_test[['X','X2', 'X3', 'X4']]\n",
    "k4_test_y=k4_test[['y']]\n",
    "k4_train_x=k4_train[['X','X2', 'X3', 'X4']]\n",
    "k4_train_y=k4_train[['y']]"
   ]
  },
  {
   "cell_type": "code",
   "execution_count": 119,
   "metadata": {
    "collapsed": true
   },
   "outputs": [],
   "source": [
    "X_scaler_p = preprocessing.StandardScaler().fit(k4_test_x)\n",
    "Y_scaler_p = preprocessing.StandardScaler().fit(k4_test_y)\n",
    "X_scaler = preprocessing.StandardScaler().fit(k4_train_x)\n",
    "Y_scaler = preprocessing.StandardScaler().fit(k4_train_y)"
   ]
  },
  {
   "cell_type": "code",
   "execution_count": 120,
   "metadata": {
    "collapsed": true
   },
   "outputs": [],
   "source": [
    "Xscaler_p = X_scaler.transform(k4_test_x)\n",
    "Yscaler_p = Y_scaler.transform(k4_test_y)\n",
    "Xscaler = X_scaler_p.transform(k4_train_x)\n",
    "Yscaler = Y_scaler_p.transform(k4_train_y)"
   ]
  },
  {
   "cell_type": "code",
   "execution_count": 121,
   "metadata": {
    "collapsed": true
   },
   "outputs": [],
   "source": [
    "Xscaler = pd.DataFrame(Xscaler)\n",
    "Yscaler = pd.DataFrame(Yscaler)\n",
    "Xscaler_p = pd.DataFrame(Xscaler_p)\n",
    "Yscaler_p = pd.DataFrame(Yscaler_p)"
   ]
  },
  {
   "cell_type": "code",
   "execution_count": 122,
   "metadata": {},
   "outputs": [
    {
     "data": {
      "text/plain": [
       "LinearRegression(copy_X=True, fit_intercept=True, n_jobs=1, normalize=False)"
      ]
     },
     "execution_count": 122,
     "metadata": {},
     "output_type": "execute_result"
    }
   ],
   "source": [
    "linReg=LinearRegression()\n",
    "linReg.fit(Xscaler, Yscaler)"
   ]
  },
  {
   "cell_type": "code",
   "execution_count": 123,
   "metadata": {
    "collapsed": true
   },
   "outputs": [],
   "source": [
    "k4_param= entrena(w0, W, Xscaler, Yscaler, nu, lam)"
   ]
  },
  {
   "cell_type": "code",
   "execution_count": 124,
   "metadata": {
    "collapsed": true
   },
   "outputs": [],
   "source": [
    "y_k4=float(k4_param[0])+(Xscaler[0]*float(k4_param[1][0]))+(Xscaler[1]*float(k4_param[1][1]))+(Xscaler[2]*float(k4_param[1][2]))+(Xscaler[3]*float(k4_param[1][3]))"
   ]
  },
  {
   "cell_type": "code",
   "execution_count": 125,
   "metadata": {
    "collapsed": true
   },
   "outputs": [],
   "source": [
    "error_k4=np.mean((Yscaler-pd.DataFrame(y_k4))**2)"
   ]
  },
  {
   "cell_type": "markdown",
   "metadata": {},
   "source": [
    "## Hacemos lo mismo para k5"
   ]
  },
  {
   "cell_type": "code",
   "execution_count": 126,
   "metadata": {
    "collapsed": true
   },
   "outputs": [],
   "source": [
    "k5_train=df.loc[0:824]\n",
    "k5_test=df.loc[825:1030]\n"
   ]
  },
  {
   "cell_type": "code",
   "execution_count": 127,
   "metadata": {
    "collapsed": true
   },
   "outputs": [],
   "source": [
    "k5_test_x=k5_test[['X','X2', 'X3', 'X4']]\n",
    "k5_test_y=k5_test[['y']]\n",
    "k5_train_x=k5_train[['X','X2', 'X3', 'X4']]\n",
    "k5_train_y=k5_train[['y']]"
   ]
  },
  {
   "cell_type": "code",
   "execution_count": 128,
   "metadata": {
    "collapsed": true
   },
   "outputs": [],
   "source": [
    "X_scaler_p = preprocessing.StandardScaler().fit(k5_test_x)\n",
    "Y_scaler_p = preprocessing.StandardScaler().fit(k5_test_y)\n",
    "X_scaler = preprocessing.StandardScaler().fit(k5_train_x)\n",
    "Y_scaler = preprocessing.StandardScaler().fit(k5_train_y)"
   ]
  },
  {
   "cell_type": "code",
   "execution_count": 129,
   "metadata": {
    "collapsed": true
   },
   "outputs": [],
   "source": [
    "Xscaler_p = X_scaler.transform(k5_test_x)\n",
    "Yscaler_p = Y_scaler.transform(k5_test_y)\n",
    "Xscaler = X_scaler_p.transform(k5_train_x)\n",
    "Yscaler = Y_scaler_p.transform(k5_train_y)"
   ]
  },
  {
   "cell_type": "code",
   "execution_count": 130,
   "metadata": {
    "collapsed": true
   },
   "outputs": [],
   "source": [
    "Xscaler = pd.DataFrame(Xscaler)\n",
    "Yscaler = pd.DataFrame(Yscaler)\n",
    "Xscaler_p = pd.DataFrame(Xscaler_p)\n",
    "Yscaler_p = pd.DataFrame(Yscaler_p)"
   ]
  },
  {
   "cell_type": "code",
   "execution_count": 131,
   "metadata": {},
   "outputs": [
    {
     "data": {
      "text/plain": [
       "LinearRegression(copy_X=True, fit_intercept=True, n_jobs=1, normalize=False)"
      ]
     },
     "execution_count": 131,
     "metadata": {},
     "output_type": "execute_result"
    }
   ],
   "source": [
    "linReg=LinearRegression()\n",
    "linReg.fit(Xscaler, Yscaler)"
   ]
  },
  {
   "cell_type": "code",
   "execution_count": 132,
   "metadata": {
    "collapsed": true
   },
   "outputs": [],
   "source": [
    "k5_param= entrena(w0, W, Xscaler, Yscaler, nu, lam)"
   ]
  },
  {
   "cell_type": "code",
   "execution_count": 133,
   "metadata": {
    "collapsed": true
   },
   "outputs": [],
   "source": [
    "y_k5=float(k5_param[0])+(Xscaler[0]*float(k5_param[1][0]))+(Xscaler[1]*float(k5_param[1][1]))+(Xscaler[2]*float(k5_param[1][2]))+(Xscaler[3]*float(k5_param[1][3]))"
   ]
  },
  {
   "cell_type": "code",
   "execution_count": 134,
   "metadata": {
    "collapsed": true
   },
   "outputs": [],
   "source": [
    "error_k5=np.mean((Yscaler-pd.DataFrame(y_k5))**2)"
   ]
  },
  {
   "cell_type": "code",
   "execution_count": 139,
   "metadata": {},
   "outputs": [],
   "source": [
    "error_avg_l1=(error_k1+error_k2+error_k3+error_k4+error_k5)/2"
   ]
  },
  {
   "cell_type": "code",
   "execution_count": 140,
   "metadata": {},
   "outputs": [
    {
     "data": {
      "text/plain": [
       "0    7.335963e+72\n",
       "dtype: float64"
      ]
     },
     "execution_count": 140,
     "metadata": {},
     "output_type": "execute_result"
    }
   ],
   "source": [
    "error_avg_l1"
   ]
  },
  {
   "cell_type": "markdown",
   "metadata": {},
   "source": [
    "## Probamos con lambda=0.15"
   ]
  },
  {
   "cell_type": "markdown",
   "metadata": {},
   "source": [
    "## Hacemos el ejercicio con k=1"
   ]
  },
  {
   "cell_type": "code",
   "execution_count": 197,
   "metadata": {
    "collapsed": true
   },
   "outputs": [],
   "source": [
    "k1_test=df.loc[0:206]\n",
    "k1_train=df.loc[207:1030]"
   ]
  },
  {
   "cell_type": "code",
   "execution_count": 198,
   "metadata": {
    "collapsed": true
   },
   "outputs": [],
   "source": [
    "k1_test_x=k1_test[['X','X2', 'X3', 'X4']]\n",
    "k1_test_y=k1_test[['y']]\n",
    "k1_train_x=k1_train[['X','X2', 'X3', 'X4']]\n",
    "k1_train_y=k1_train[['y']]"
   ]
  },
  {
   "cell_type": "code",
   "execution_count": 199,
   "metadata": {
    "collapsed": true
   },
   "outputs": [],
   "source": [
    "X_scaler_p = preprocessing.StandardScaler().fit(k1_test_x)\n",
    "Y_scaler_p = preprocessing.StandardScaler().fit(k1_test_y)\n",
    "X_scaler = preprocessing.StandardScaler().fit(k1_train_x)\n",
    "Y_scaler = preprocessing.StandardScaler().fit(k1_train_y)"
   ]
  },
  {
   "cell_type": "code",
   "execution_count": 200,
   "metadata": {
    "collapsed": true
   },
   "outputs": [],
   "source": [
    "Xscaler_p = X_scaler.transform(k1_test_x)\n",
    "Yscaler_p = Y_scaler.transform(k1_test_y)\n",
    "Xscaler = X_scaler_p.transform(k1_train_x)\n",
    "Yscaler = Y_scaler_p.transform(k1_train_y)"
   ]
  },
  {
   "cell_type": "code",
   "execution_count": 201,
   "metadata": {
    "collapsed": true
   },
   "outputs": [],
   "source": [
    "Xscaler = pd.DataFrame(Xscaler)\n",
    "Yscaler = pd.DataFrame(Yscaler)\n",
    "Xscaler_p = pd.DataFrame(Xscaler_p)\n",
    "Yscaler_p = pd.DataFrame(Yscaler_p)"
   ]
  },
  {
   "cell_type": "code",
   "execution_count": 202,
   "metadata": {},
   "outputs": [
    {
     "data": {
      "text/plain": [
       "LinearRegression(copy_X=True, fit_intercept=True, n_jobs=1, normalize=False)"
      ]
     },
     "execution_count": 202,
     "metadata": {},
     "output_type": "execute_result"
    }
   ],
   "source": [
    "linReg=LinearRegression()\n",
    "linReg.fit(Xscaler, Yscaler)"
   ]
  },
  {
   "cell_type": "code",
   "execution_count": 203,
   "metadata": {},
   "outputs": [
    {
     "name": "stdout",
     "output_type": "stream",
     "text": [
      "[ 0.00103272] 0.0223323796105 0.986856528998 -0.000577749116089 -0.0107970374231\n"
     ]
    }
   ],
   "source": [
    "print linReg.intercept_,  linReg.coef_[0][0], linReg.coef_[0][1], linReg.coef_[0][2], linReg.coef_[0][3]"
   ]
  },
  {
   "cell_type": "code",
   "execution_count": 204,
   "metadata": {},
   "outputs": [
    {
     "name": "stdout",
     "output_type": "stream",
     "text": [
      "[-4, 1, -5, 3]\n"
     ]
    }
   ],
   "source": [
    "#Obtenemos la regresión regularizada \n",
    "w0 = float(np.random.randint(-5,5,1))\n",
    "W = list(np.random.randint(-5,5,4))\n",
    "nu = 0.01\n",
    "lam = .15\n",
    "print W"
   ]
  },
  {
   "cell_type": "code",
   "execution_count": 205,
   "metadata": {
    "collapsed": true
   },
   "outputs": [],
   "source": [
    "k1_param= entrena(w0, W, Xscaler, Yscaler, nu, lam)\n"
   ]
  },
  {
   "cell_type": "code",
   "execution_count": 206,
   "metadata": {
    "scrolled": true
   },
   "outputs": [
    {
     "data": {
      "text/plain": [
       "(0    0.048377\n",
       " dtype: float64, [0    0.060276\n",
       "  dtype: float64, 0    0.05816\n",
       "  dtype: float64, 0   -0.00802\n",
       "  dtype: float64, 0    0.036396\n",
       "  dtype: float64])"
      ]
     },
     "execution_count": 206,
     "metadata": {},
     "output_type": "execute_result"
    }
   ],
   "source": [
    "k1_param"
   ]
  },
  {
   "cell_type": "code",
   "execution_count": 207,
   "metadata": {
    "collapsed": true
   },
   "outputs": [],
   "source": [
    "y_k1=float(k1_param[0])+(Xscaler[0]*float(k1_param[1][0]))+(Xscaler[1]*float(k1_param[1][1]))+(Xscaler[2]*float(k1_param[1][2]))+(Xscaler[3]*float(k1_param[1][3]))\n"
   ]
  },
  {
   "cell_type": "code",
   "execution_count": 208,
   "metadata": {
    "collapsed": true
   },
   "outputs": [],
   "source": [
    "error_k1=np.mean((Yscaler-pd.DataFrame(y_k1))**2)"
   ]
  },
  {
   "cell_type": "code",
   "execution_count": 209,
   "metadata": {},
   "outputs": [
    {
     "data": {
      "text/plain": [
       "0    0.81466\n",
       "dtype: float64"
      ]
     },
     "execution_count": 209,
     "metadata": {},
     "output_type": "execute_result"
    }
   ],
   "source": [
    "error_k1"
   ]
  },
  {
   "cell_type": "markdown",
   "metadata": {},
   "source": [
    "## Hacemos el mismo proceso para k2"
   ]
  },
  {
   "cell_type": "code",
   "execution_count": 155,
   "metadata": {
    "collapsed": true
   },
   "outputs": [],
   "source": [
    "k2_test=df.loc[207:412]\n",
    "k2_train1=df.loc[0:206]\n",
    "k2_train2=df.loc[413:1030]\n",
    "k2_train=k2_train1.append(k2_train2)"
   ]
  },
  {
   "cell_type": "code",
   "execution_count": 156,
   "metadata": {
    "collapsed": true
   },
   "outputs": [],
   "source": [
    "k2_test_x=k2_test[['X','X2', 'X3', 'X4']]\n",
    "k2_test_y=k2_test[['y']]\n",
    "k2_train_x=k2_train[['X','X2', 'X3', 'X4']]\n",
    "k2_train_y=k2_train[['y']]"
   ]
  },
  {
   "cell_type": "code",
   "execution_count": 157,
   "metadata": {
    "collapsed": true
   },
   "outputs": [],
   "source": [
    "X_scaler_p = preprocessing.StandardScaler().fit(k2_test_x)\n",
    "Y_scaler_p = preprocessing.StandardScaler().fit(k2_test_y)\n",
    "X_scaler = preprocessing.StandardScaler().fit(k2_train_x)\n",
    "Y_scaler = preprocessing.StandardScaler().fit(k2_train_y)"
   ]
  },
  {
   "cell_type": "code",
   "execution_count": 158,
   "metadata": {
    "collapsed": true
   },
   "outputs": [],
   "source": [
    "Xscaler_p = X_scaler.transform(k2_test_x)\n",
    "Yscaler_p = Y_scaler.transform(k2_test_y)\n",
    "Xscaler = X_scaler_p.transform(k2_train_x)\n",
    "Yscaler = Y_scaler_p.transform(k2_train_y)"
   ]
  },
  {
   "cell_type": "code",
   "execution_count": 159,
   "metadata": {
    "collapsed": true
   },
   "outputs": [],
   "source": [
    "Xscaler = pd.DataFrame(Xscaler)\n",
    "Yscaler = pd.DataFrame(Yscaler)\n",
    "Xscaler_p = pd.DataFrame(Xscaler_p)\n",
    "Yscaler_p = pd.DataFrame(Yscaler_p)"
   ]
  },
  {
   "cell_type": "code",
   "execution_count": 160,
   "metadata": {},
   "outputs": [
    {
     "data": {
      "text/plain": [
       "LinearRegression(copy_X=True, fit_intercept=True, n_jobs=1, normalize=False)"
      ]
     },
     "execution_count": 160,
     "metadata": {},
     "output_type": "execute_result"
    }
   ],
   "source": [
    "linReg=LinearRegression()\n",
    "linReg.fit(Xscaler, Yscaler)"
   ]
  },
  {
   "cell_type": "code",
   "execution_count": 161,
   "metadata": {},
   "outputs": [
    {
     "name": "stdout",
     "output_type": "stream",
     "text": [
      "[ 0.02199484] 0.0289034776744 0.980903422884 -0.0015041344545 -0.0103121949698\n"
     ]
    }
   ],
   "source": [
    "print linReg.intercept_,  linReg.coef_[0][0], linReg.coef_[0][1], linReg.coef_[0][2], linReg.coef_[0][3]"
   ]
  },
  {
   "cell_type": "code",
   "execution_count": 162,
   "metadata": {
    "collapsed": true
   },
   "outputs": [],
   "source": [
    "k2_param= entrena(w0, W, Xscaler, Yscaler, nu, lam)"
   ]
  },
  {
   "cell_type": "code",
   "execution_count": 163,
   "metadata": {
    "collapsed": true
   },
   "outputs": [],
   "source": [
    "y_k2=float(k2_param[0])+(Xscaler[0]*float(k2_param[1][0]))+(Xscaler[1]*float(k2_param[1][1]))+(Xscaler[2]*float(k2_param[1][2]))+(Xscaler[3]*float(k2_param[1][3]))"
   ]
  },
  {
   "cell_type": "code",
   "execution_count": 164,
   "metadata": {
    "collapsed": true
   },
   "outputs": [],
   "source": [
    "error_k2=np.mean((Yscaler-pd.DataFrame(y_k2))**2)"
   ]
  },
  {
   "cell_type": "markdown",
   "metadata": {},
   "source": [
    "## Hacemos lo mismo para k3 "
   ]
  },
  {
   "cell_type": "code",
   "execution_count": 165,
   "metadata": {
    "collapsed": true
   },
   "outputs": [],
   "source": [
    "k3_test=df.loc[413:618]\n",
    "k3_train1=df.loc[0:412]\n",
    "k3_train2=df.loc[619:1030]\n",
    "k3_train=k3_train1.append(k3_train2)"
   ]
  },
  {
   "cell_type": "code",
   "execution_count": 166,
   "metadata": {
    "collapsed": true
   },
   "outputs": [],
   "source": [
    "k3_test_x=k3_test[['X','X2', 'X3', 'X4']]\n",
    "k3_test_y=k3_test[['y']]\n",
    "k3_train_x=k3_train[['X','X2', 'X3', 'X4']]\n",
    "k3_train_y=k3_train[['y']]"
   ]
  },
  {
   "cell_type": "code",
   "execution_count": 167,
   "metadata": {
    "collapsed": true
   },
   "outputs": [],
   "source": [
    "X_scaler_p = preprocessing.StandardScaler().fit(k3_test_x)\n",
    "Y_scaler_p = preprocessing.StandardScaler().fit(k3_test_y)\n",
    "X_scaler = preprocessing.StandardScaler().fit(k3_train_x)\n",
    "Y_scaler = preprocessing.StandardScaler().fit(k3_train_y)"
   ]
  },
  {
   "cell_type": "code",
   "execution_count": 168,
   "metadata": {
    "collapsed": true
   },
   "outputs": [],
   "source": [
    "Xscaler_p = X_scaler.transform(k3_test_x)\n",
    "Yscaler_p = Y_scaler.transform(k3_test_y)\n",
    "Xscaler = X_scaler_p.transform(k3_train_x)\n",
    "Yscaler = Y_scaler_p.transform(k3_train_y)"
   ]
  },
  {
   "cell_type": "code",
   "execution_count": 169,
   "metadata": {
    "collapsed": true
   },
   "outputs": [],
   "source": [
    "Xscaler = pd.DataFrame(Xscaler)\n",
    "Yscaler = pd.DataFrame(Yscaler)\n",
    "Xscaler_p = pd.DataFrame(Xscaler_p)\n",
    "Yscaler_p = pd.DataFrame(Yscaler_p)"
   ]
  },
  {
   "cell_type": "code",
   "execution_count": 170,
   "metadata": {},
   "outputs": [
    {
     "data": {
      "text/plain": [
       "LinearRegression(copy_X=True, fit_intercept=True, n_jobs=1, normalize=False)"
      ]
     },
     "execution_count": 170,
     "metadata": {},
     "output_type": "execute_result"
    }
   ],
   "source": [
    "linReg=LinearRegression()\n",
    "linReg.fit(Xscaler, Yscaler)"
   ]
  },
  {
   "cell_type": "code",
   "execution_count": 171,
   "metadata": {
    "collapsed": true
   },
   "outputs": [],
   "source": [
    "k3_param= entrena(w0, W, Xscaler, Yscaler, nu, lam)"
   ]
  },
  {
   "cell_type": "code",
   "execution_count": 172,
   "metadata": {
    "collapsed": true
   },
   "outputs": [],
   "source": [
    "y_k3=float(k3_param[0])+(Xscaler[0]*float(k3_param[1][0]))+(Xscaler[1]*float(k3_param[1][1]))+(Xscaler[2]*float(k3_param[1][2]))+(Xscaler[3]*float(k3_param[1][3]))"
   ]
  },
  {
   "cell_type": "code",
   "execution_count": 173,
   "metadata": {
    "collapsed": true
   },
   "outputs": [],
   "source": [
    "error_k3=np.mean((Yscaler-pd.DataFrame(y_k3))**2)"
   ]
  },
  {
   "cell_type": "markdown",
   "metadata": {},
   "source": [
    "## Hacemos lo mismo para k4"
   ]
  },
  {
   "cell_type": "code",
   "execution_count": 174,
   "metadata": {
    "collapsed": true
   },
   "outputs": [],
   "source": [
    "k4_test=df.loc[619:824]\n",
    "k4_train1=df.loc[0:618]\n",
    "k4_train2=df.loc[825:1030]\n",
    "k4_train=k4_train1.append(k4_train2)"
   ]
  },
  {
   "cell_type": "code",
   "execution_count": 175,
   "metadata": {
    "collapsed": true
   },
   "outputs": [],
   "source": [
    "k4_test_x=k4_test[['X','X2', 'X3', 'X4']]\n",
    "k4_test_y=k4_test[['y']]\n",
    "k4_train_x=k4_train[['X','X2', 'X3', 'X4']]\n",
    "k4_train_y=k4_train[['y']]"
   ]
  },
  {
   "cell_type": "code",
   "execution_count": 176,
   "metadata": {
    "collapsed": true
   },
   "outputs": [],
   "source": [
    "X_scaler_p = preprocessing.StandardScaler().fit(k4_test_x)\n",
    "Y_scaler_p = preprocessing.StandardScaler().fit(k4_test_y)\n",
    "X_scaler = preprocessing.StandardScaler().fit(k4_train_x)\n",
    "Y_scaler = preprocessing.StandardScaler().fit(k4_train_y)"
   ]
  },
  {
   "cell_type": "code",
   "execution_count": 177,
   "metadata": {
    "collapsed": true
   },
   "outputs": [],
   "source": [
    "Xscaler_p = X_scaler.transform(k4_test_x)\n",
    "Yscaler_p = Y_scaler.transform(k4_test_y)\n",
    "Xscaler = X_scaler_p.transform(k4_train_x)\n",
    "Yscaler = Y_scaler_p.transform(k4_train_y)"
   ]
  },
  {
   "cell_type": "code",
   "execution_count": 178,
   "metadata": {
    "collapsed": true
   },
   "outputs": [],
   "source": [
    "Xscaler = pd.DataFrame(Xscaler)\n",
    "Yscaler = pd.DataFrame(Yscaler)\n",
    "Xscaler_p = pd.DataFrame(Xscaler_p)\n",
    "Yscaler_p = pd.DataFrame(Yscaler_p)"
   ]
  },
  {
   "cell_type": "code",
   "execution_count": 179,
   "metadata": {},
   "outputs": [
    {
     "data": {
      "text/plain": [
       "LinearRegression(copy_X=True, fit_intercept=True, n_jobs=1, normalize=False)"
      ]
     },
     "execution_count": 179,
     "metadata": {},
     "output_type": "execute_result"
    }
   ],
   "source": [
    "linReg=LinearRegression()\n",
    "linReg.fit(Xscaler, Yscaler)"
   ]
  },
  {
   "cell_type": "code",
   "execution_count": 180,
   "metadata": {
    "collapsed": true
   },
   "outputs": [],
   "source": [
    "k4_param= entrena(w0, W, Xscaler, Yscaler, nu, lam)"
   ]
  },
  {
   "cell_type": "code",
   "execution_count": 181,
   "metadata": {
    "collapsed": true
   },
   "outputs": [],
   "source": [
    "y_k4=float(k4_param[0])+(Xscaler[0]*float(k4_param[1][0]))+(Xscaler[1]*float(k4_param[1][1]))+(Xscaler[2]*float(k4_param[1][2]))+(Xscaler[3]*float(k4_param[1][3]))"
   ]
  },
  {
   "cell_type": "code",
   "execution_count": 182,
   "metadata": {
    "collapsed": true
   },
   "outputs": [],
   "source": [
    "error_k4=np.mean((Yscaler-pd.DataFrame(y_k4))**2)"
   ]
  },
  {
   "cell_type": "markdown",
   "metadata": {},
   "source": [
    "## Hacemos lo mismo para k5"
   ]
  },
  {
   "cell_type": "code",
   "execution_count": 183,
   "metadata": {
    "collapsed": true
   },
   "outputs": [],
   "source": [
    "k5_train=df.loc[0:824]\n",
    "k5_test=df.loc[825:1030]\n"
   ]
  },
  {
   "cell_type": "code",
   "execution_count": 184,
   "metadata": {
    "collapsed": true
   },
   "outputs": [],
   "source": [
    "k5_test_x=k5_test[['X','X2', 'X3', 'X4']]\n",
    "k5_test_y=k5_test[['y']]\n",
    "k5_train_x=k5_train[['X','X2', 'X3', 'X4']]\n",
    "k5_train_y=k5_train[['y']]"
   ]
  },
  {
   "cell_type": "code",
   "execution_count": 185,
   "metadata": {
    "collapsed": true
   },
   "outputs": [],
   "source": [
    "X_scaler_p = preprocessing.StandardScaler().fit(k5_test_x)\n",
    "Y_scaler_p = preprocessing.StandardScaler().fit(k5_test_y)\n",
    "X_scaler = preprocessing.StandardScaler().fit(k5_train_x)\n",
    "Y_scaler = preprocessing.StandardScaler().fit(k5_train_y)"
   ]
  },
  {
   "cell_type": "code",
   "execution_count": 186,
   "metadata": {
    "collapsed": true
   },
   "outputs": [],
   "source": [
    "Xscaler_p = X_scaler.transform(k5_test_x)\n",
    "Yscaler_p = Y_scaler.transform(k5_test_y)\n",
    "Xscaler = X_scaler_p.transform(k5_train_x)\n",
    "Yscaler = Y_scaler_p.transform(k5_train_y)"
   ]
  },
  {
   "cell_type": "code",
   "execution_count": 187,
   "metadata": {
    "collapsed": true
   },
   "outputs": [],
   "source": [
    "Xscaler = pd.DataFrame(Xscaler)\n",
    "Yscaler = pd.DataFrame(Yscaler)\n",
    "Xscaler_p = pd.DataFrame(Xscaler_p)\n",
    "Yscaler_p = pd.DataFrame(Yscaler_p)"
   ]
  },
  {
   "cell_type": "code",
   "execution_count": 188,
   "metadata": {},
   "outputs": [
    {
     "data": {
      "text/plain": [
       "LinearRegression(copy_X=True, fit_intercept=True, n_jobs=1, normalize=False)"
      ]
     },
     "execution_count": 188,
     "metadata": {},
     "output_type": "execute_result"
    }
   ],
   "source": [
    "linReg=LinearRegression()\n",
    "linReg.fit(Xscaler, Yscaler)"
   ]
  },
  {
   "cell_type": "code",
   "execution_count": 189,
   "metadata": {
    "collapsed": true
   },
   "outputs": [],
   "source": [
    "k5_param= entrena(w0, W, Xscaler, Yscaler, nu, lam)"
   ]
  },
  {
   "cell_type": "code",
   "execution_count": 190,
   "metadata": {
    "collapsed": true
   },
   "outputs": [],
   "source": [
    "y_k5=float(k5_param[0])+(Xscaler[0]*float(k5_param[1][0]))+(Xscaler[1]*float(k5_param[1][1]))+(Xscaler[2]*float(k5_param[1][2]))+(Xscaler[3]*float(k5_param[1][3]))"
   ]
  },
  {
   "cell_type": "code",
   "execution_count": 191,
   "metadata": {
    "collapsed": true
   },
   "outputs": [],
   "source": [
    "error_k5=np.mean((Yscaler-pd.DataFrame(y_k5))**2)"
   ]
  },
  {
   "cell_type": "code",
   "execution_count": 210,
   "metadata": {
    "collapsed": true
   },
   "outputs": [],
   "source": [
    "error_avg_l2=(error_k1+error_k2+error_k3+error_k4+error_k5)/2"
   ]
  },
  {
   "cell_type": "code",
   "execution_count": 212,
   "metadata": {},
   "outputs": [
    {
     "data": {
      "text/plain": [
       "0    2.018866\n",
       "dtype: float64"
      ]
     },
     "execution_count": 212,
     "metadata": {},
     "output_type": "execute_result"
    }
   ],
   "source": [
    "error_avg_l2"
   ]
  },
  {
   "cell_type": "code",
   "execution_count": null,
   "metadata": {
    "collapsed": true
   },
   "outputs": [],
   "source": []
  },
  {
   "cell_type": "markdown",
   "metadata": {},
   "source": [
    "## Probamos con lambda=0.01"
   ]
  },
  {
   "cell_type": "markdown",
   "metadata": {},
   "source": [
    "## Hacemos el ejercicio con k=1"
   ]
  },
  {
   "cell_type": "code",
   "execution_count": 213,
   "metadata": {
    "collapsed": true
   },
   "outputs": [],
   "source": [
    "k1_test=df.loc[0:206]\n",
    "k1_train=df.loc[207:1030]"
   ]
  },
  {
   "cell_type": "code",
   "execution_count": 214,
   "metadata": {
    "collapsed": true
   },
   "outputs": [],
   "source": [
    "k1_test_x=k1_test[['X','X2', 'X3', 'X4']]\n",
    "k1_test_y=k1_test[['y']]\n",
    "k1_train_x=k1_train[['X','X2', 'X3', 'X4']]\n",
    "k1_train_y=k1_train[['y']]"
   ]
  },
  {
   "cell_type": "code",
   "execution_count": 215,
   "metadata": {
    "collapsed": true
   },
   "outputs": [],
   "source": [
    "X_scaler_p = preprocessing.StandardScaler().fit(k1_test_x)\n",
    "Y_scaler_p = preprocessing.StandardScaler().fit(k1_test_y)\n",
    "X_scaler = preprocessing.StandardScaler().fit(k1_train_x)\n",
    "Y_scaler = preprocessing.StandardScaler().fit(k1_train_y)"
   ]
  },
  {
   "cell_type": "code",
   "execution_count": 216,
   "metadata": {
    "collapsed": true
   },
   "outputs": [],
   "source": [
    "Xscaler_p = X_scaler.transform(k1_test_x)\n",
    "Yscaler_p = Y_scaler.transform(k1_test_y)\n",
    "Xscaler = X_scaler_p.transform(k1_train_x)\n",
    "Yscaler = Y_scaler_p.transform(k1_train_y)"
   ]
  },
  {
   "cell_type": "code",
   "execution_count": 217,
   "metadata": {
    "collapsed": true
   },
   "outputs": [],
   "source": [
    "Xscaler = pd.DataFrame(Xscaler)\n",
    "Yscaler = pd.DataFrame(Yscaler)\n",
    "Xscaler_p = pd.DataFrame(Xscaler_p)\n",
    "Yscaler_p = pd.DataFrame(Yscaler_p)"
   ]
  },
  {
   "cell_type": "code",
   "execution_count": 218,
   "metadata": {},
   "outputs": [
    {
     "data": {
      "text/plain": [
       "LinearRegression(copy_X=True, fit_intercept=True, n_jobs=1, normalize=False)"
      ]
     },
     "execution_count": 218,
     "metadata": {},
     "output_type": "execute_result"
    }
   ],
   "source": [
    "linReg=LinearRegression()\n",
    "linReg.fit(Xscaler, Yscaler)"
   ]
  },
  {
   "cell_type": "code",
   "execution_count": 219,
   "metadata": {},
   "outputs": [
    {
     "name": "stdout",
     "output_type": "stream",
     "text": [
      "[ 0.00103272] 0.0223323796105 0.986856528998 -0.000577749116089 -0.0107970374231\n"
     ]
    }
   ],
   "source": [
    "print linReg.intercept_,  linReg.coef_[0][0], linReg.coef_[0][1], linReg.coef_[0][2], linReg.coef_[0][3]"
   ]
  },
  {
   "cell_type": "code",
   "execution_count": 220,
   "metadata": {},
   "outputs": [
    {
     "name": "stdout",
     "output_type": "stream",
     "text": [
      "[4, -2, -4, -1]\n"
     ]
    }
   ],
   "source": [
    "#Obtenemos la regresión regularizada \n",
    "w0 = float(np.random.randint(-5,5,1))\n",
    "W = list(np.random.randint(-5,5,4))\n",
    "nu = 0.01\n",
    "lam = 0.01\n",
    "print W"
   ]
  },
  {
   "cell_type": "code",
   "execution_count": 221,
   "metadata": {
    "collapsed": true
   },
   "outputs": [],
   "source": [
    "k1_param= entrena(w0, W, Xscaler, Yscaler, nu, lam)\n"
   ]
  },
  {
   "cell_type": "code",
   "execution_count": 222,
   "metadata": {
    "scrolled": true
   },
   "outputs": [
    {
     "data": {
      "text/plain": [
       "(0    0.042078\n",
       " dtype: float64, [0    0.335903\n",
       "  dtype: float64, 0    0.366533\n",
       "  dtype: float64, 0    0.062178\n",
       "  dtype: float64, 0    0.000049\n",
       "  dtype: float64])"
      ]
     },
     "execution_count": 222,
     "metadata": {},
     "output_type": "execute_result"
    }
   ],
   "source": [
    "k1_param"
   ]
  },
  {
   "cell_type": "code",
   "execution_count": 223,
   "metadata": {
    "collapsed": true
   },
   "outputs": [],
   "source": [
    "y_k1=float(k1_param[0])+(Xscaler[0]*float(k1_param[1][0]))+(Xscaler[1]*float(k1_param[1][1]))+(Xscaler[2]*float(k1_param[1][2]))+(Xscaler[3]*float(k1_param[1][3]))\n"
   ]
  },
  {
   "cell_type": "code",
   "execution_count": 224,
   "metadata": {
    "collapsed": true
   },
   "outputs": [],
   "source": [
    "error_k1=np.mean((Yscaler-pd.DataFrame(y_k1))**2)"
   ]
  },
  {
   "cell_type": "code",
   "execution_count": 225,
   "metadata": {},
   "outputs": [
    {
     "data": {
      "text/plain": [
       "0    0.271084\n",
       "dtype: float64"
      ]
     },
     "execution_count": 225,
     "metadata": {},
     "output_type": "execute_result"
    }
   ],
   "source": [
    "error_k1"
   ]
  },
  {
   "cell_type": "markdown",
   "metadata": {},
   "source": [
    "## Hacemos el mismo proceso para k2"
   ]
  },
  {
   "cell_type": "code",
   "execution_count": 226,
   "metadata": {
    "collapsed": true
   },
   "outputs": [],
   "source": [
    "k2_test=df.loc[207:412]\n",
    "k2_train1=df.loc[0:206]\n",
    "k2_train2=df.loc[413:1030]\n",
    "k2_train=k2_train1.append(k2_train2)"
   ]
  },
  {
   "cell_type": "code",
   "execution_count": 227,
   "metadata": {
    "collapsed": true
   },
   "outputs": [],
   "source": [
    "k2_test_x=k2_test[['X','X2', 'X3', 'X4']]\n",
    "k2_test_y=k2_test[['y']]\n",
    "k2_train_x=k2_train[['X','X2', 'X3', 'X4']]\n",
    "k2_train_y=k2_train[['y']]"
   ]
  },
  {
   "cell_type": "code",
   "execution_count": 228,
   "metadata": {
    "collapsed": true
   },
   "outputs": [],
   "source": [
    "X_scaler_p = preprocessing.StandardScaler().fit(k2_test_x)\n",
    "Y_scaler_p = preprocessing.StandardScaler().fit(k2_test_y)\n",
    "X_scaler = preprocessing.StandardScaler().fit(k2_train_x)\n",
    "Y_scaler = preprocessing.StandardScaler().fit(k2_train_y)"
   ]
  },
  {
   "cell_type": "code",
   "execution_count": 229,
   "metadata": {
    "collapsed": true
   },
   "outputs": [],
   "source": [
    "Xscaler_p = X_scaler.transform(k2_test_x)\n",
    "Yscaler_p = Y_scaler.transform(k2_test_y)\n",
    "Xscaler = X_scaler_p.transform(k2_train_x)\n",
    "Yscaler = Y_scaler_p.transform(k2_train_y)"
   ]
  },
  {
   "cell_type": "code",
   "execution_count": 230,
   "metadata": {
    "collapsed": true
   },
   "outputs": [],
   "source": [
    "Xscaler = pd.DataFrame(Xscaler)\n",
    "Yscaler = pd.DataFrame(Yscaler)\n",
    "Xscaler_p = pd.DataFrame(Xscaler_p)\n",
    "Yscaler_p = pd.DataFrame(Yscaler_p)"
   ]
  },
  {
   "cell_type": "code",
   "execution_count": 231,
   "metadata": {},
   "outputs": [
    {
     "data": {
      "text/plain": [
       "LinearRegression(copy_X=True, fit_intercept=True, n_jobs=1, normalize=False)"
      ]
     },
     "execution_count": 231,
     "metadata": {},
     "output_type": "execute_result"
    }
   ],
   "source": [
    "linReg=LinearRegression()\n",
    "linReg.fit(Xscaler, Yscaler)"
   ]
  },
  {
   "cell_type": "code",
   "execution_count": 232,
   "metadata": {},
   "outputs": [
    {
     "name": "stdout",
     "output_type": "stream",
     "text": [
      "[ 0.02199484] 0.0289034776744 0.980903422884 -0.0015041344545 -0.0103121949698\n"
     ]
    }
   ],
   "source": [
    "print linReg.intercept_,  linReg.coef_[0][0], linReg.coef_[0][1], linReg.coef_[0][2], linReg.coef_[0][3]"
   ]
  },
  {
   "cell_type": "code",
   "execution_count": 233,
   "metadata": {
    "collapsed": true
   },
   "outputs": [],
   "source": [
    "k2_param= entrena(w0, W, Xscaler, Yscaler, nu, lam)"
   ]
  },
  {
   "cell_type": "code",
   "execution_count": 234,
   "metadata": {
    "collapsed": true
   },
   "outputs": [],
   "source": [
    "y_k2=float(k2_param[0])+(Xscaler[0]*float(k2_param[1][0]))+(Xscaler[1]*float(k2_param[1][1]))+(Xscaler[2]*float(k2_param[1][2]))+(Xscaler[3]*float(k2_param[1][3]))"
   ]
  },
  {
   "cell_type": "code",
   "execution_count": 235,
   "metadata": {
    "collapsed": true
   },
   "outputs": [],
   "source": [
    "error_k2=np.mean((Yscaler-pd.DataFrame(y_k2))**2)"
   ]
  },
  {
   "cell_type": "code",
   "execution_count": 236,
   "metadata": {},
   "outputs": [
    {
     "data": {
      "text/plain": [
       "0    0.126116\n",
       "dtype: float64"
      ]
     },
     "execution_count": 236,
     "metadata": {},
     "output_type": "execute_result"
    }
   ],
   "source": [
    "error_k2"
   ]
  },
  {
   "cell_type": "markdown",
   "metadata": {},
   "source": [
    "## Hacemos lo mismo para k3 "
   ]
  },
  {
   "cell_type": "code",
   "execution_count": 237,
   "metadata": {
    "collapsed": true
   },
   "outputs": [],
   "source": [
    "k3_test=df.loc[413:618]\n",
    "k3_train1=df.loc[0:412]\n",
    "k3_train2=df.loc[619:1030]\n",
    "k3_train=k3_train1.append(k3_train2)"
   ]
  },
  {
   "cell_type": "code",
   "execution_count": 238,
   "metadata": {
    "collapsed": true
   },
   "outputs": [],
   "source": [
    "k3_test_x=k3_test[['X','X2', 'X3', 'X4']]\n",
    "k3_test_y=k3_test[['y']]\n",
    "k3_train_x=k3_train[['X','X2', 'X3', 'X4']]\n",
    "k3_train_y=k3_train[['y']]"
   ]
  },
  {
   "cell_type": "code",
   "execution_count": 239,
   "metadata": {
    "collapsed": true
   },
   "outputs": [],
   "source": [
    "X_scaler_p = preprocessing.StandardScaler().fit(k3_test_x)\n",
    "Y_scaler_p = preprocessing.StandardScaler().fit(k3_test_y)\n",
    "X_scaler = preprocessing.StandardScaler().fit(k3_train_x)\n",
    "Y_scaler = preprocessing.StandardScaler().fit(k3_train_y)"
   ]
  },
  {
   "cell_type": "code",
   "execution_count": 240,
   "metadata": {
    "collapsed": true
   },
   "outputs": [],
   "source": [
    "Xscaler_p = X_scaler.transform(k3_test_x)\n",
    "Yscaler_p = Y_scaler.transform(k3_test_y)\n",
    "Xscaler = X_scaler_p.transform(k3_train_x)\n",
    "Yscaler = Y_scaler_p.transform(k3_train_y)"
   ]
  },
  {
   "cell_type": "code",
   "execution_count": 241,
   "metadata": {
    "collapsed": true
   },
   "outputs": [],
   "source": [
    "Xscaler = pd.DataFrame(Xscaler)\n",
    "Yscaler = pd.DataFrame(Yscaler)\n",
    "Xscaler_p = pd.DataFrame(Xscaler_p)\n",
    "Yscaler_p = pd.DataFrame(Yscaler_p)"
   ]
  },
  {
   "cell_type": "code",
   "execution_count": 242,
   "metadata": {},
   "outputs": [
    {
     "data": {
      "text/plain": [
       "LinearRegression(copy_X=True, fit_intercept=True, n_jobs=1, normalize=False)"
      ]
     },
     "execution_count": 242,
     "metadata": {},
     "output_type": "execute_result"
    }
   ],
   "source": [
    "linReg=LinearRegression()\n",
    "linReg.fit(Xscaler, Yscaler)"
   ]
  },
  {
   "cell_type": "code",
   "execution_count": 243,
   "metadata": {
    "collapsed": true
   },
   "outputs": [],
   "source": [
    "k3_param= entrena(w0, W, Xscaler, Yscaler, nu, lam)"
   ]
  },
  {
   "cell_type": "code",
   "execution_count": 244,
   "metadata": {
    "collapsed": true
   },
   "outputs": [],
   "source": [
    "y_k3=float(k3_param[0])+(Xscaler[0]*float(k3_param[1][0]))+(Xscaler[1]*float(k3_param[1][1]))+(Xscaler[2]*float(k3_param[1][2]))+(Xscaler[3]*float(k3_param[1][3]))"
   ]
  },
  {
   "cell_type": "code",
   "execution_count": 245,
   "metadata": {
    "collapsed": true
   },
   "outputs": [],
   "source": [
    "error_k3=np.mean((Yscaler-pd.DataFrame(y_k3))**2)"
   ]
  },
  {
   "cell_type": "markdown",
   "metadata": {},
   "source": [
    "## Hacemos lo mismo para k4"
   ]
  },
  {
   "cell_type": "code",
   "execution_count": 246,
   "metadata": {
    "collapsed": true
   },
   "outputs": [],
   "source": [
    "k4_test=df.loc[619:824]\n",
    "k4_train1=df.loc[0:618]\n",
    "k4_train2=df.loc[825:1030]\n",
    "k4_train=k4_train1.append(k4_train2)"
   ]
  },
  {
   "cell_type": "code",
   "execution_count": 247,
   "metadata": {
    "collapsed": true
   },
   "outputs": [],
   "source": [
    "k4_test_x=k4_test[['X','X2', 'X3', 'X4']]\n",
    "k4_test_y=k4_test[['y']]\n",
    "k4_train_x=k4_train[['X','X2', 'X3', 'X4']]\n",
    "k4_train_y=k4_train[['y']]"
   ]
  },
  {
   "cell_type": "code",
   "execution_count": 248,
   "metadata": {
    "collapsed": true
   },
   "outputs": [],
   "source": [
    "X_scaler_p = preprocessing.StandardScaler().fit(k4_test_x)\n",
    "Y_scaler_p = preprocessing.StandardScaler().fit(k4_test_y)\n",
    "X_scaler = preprocessing.StandardScaler().fit(k4_train_x)\n",
    "Y_scaler = preprocessing.StandardScaler().fit(k4_train_y)"
   ]
  },
  {
   "cell_type": "code",
   "execution_count": 249,
   "metadata": {
    "collapsed": true
   },
   "outputs": [],
   "source": [
    "Xscaler_p = X_scaler.transform(k4_test_x)\n",
    "Yscaler_p = Y_scaler.transform(k4_test_y)\n",
    "Xscaler = X_scaler_p.transform(k4_train_x)\n",
    "Yscaler = Y_scaler_p.transform(k4_train_y)"
   ]
  },
  {
   "cell_type": "code",
   "execution_count": 250,
   "metadata": {
    "collapsed": true
   },
   "outputs": [],
   "source": [
    "Xscaler = pd.DataFrame(Xscaler)\n",
    "Yscaler = pd.DataFrame(Yscaler)\n",
    "Xscaler_p = pd.DataFrame(Xscaler_p)\n",
    "Yscaler_p = pd.DataFrame(Yscaler_p)"
   ]
  },
  {
   "cell_type": "code",
   "execution_count": 251,
   "metadata": {},
   "outputs": [
    {
     "data": {
      "text/plain": [
       "LinearRegression(copy_X=True, fit_intercept=True, n_jobs=1, normalize=False)"
      ]
     },
     "execution_count": 251,
     "metadata": {},
     "output_type": "execute_result"
    }
   ],
   "source": [
    "linReg=LinearRegression()\n",
    "linReg.fit(Xscaler, Yscaler)"
   ]
  },
  {
   "cell_type": "code",
   "execution_count": 252,
   "metadata": {
    "collapsed": true
   },
   "outputs": [],
   "source": [
    "k4_param= entrena(w0, W, Xscaler, Yscaler, nu, lam)"
   ]
  },
  {
   "cell_type": "code",
   "execution_count": 253,
   "metadata": {
    "collapsed": true
   },
   "outputs": [],
   "source": [
    "y_k4=float(k4_param[0])+(Xscaler[0]*float(k4_param[1][0]))+(Xscaler[1]*float(k4_param[1][1]))+(Xscaler[2]*float(k4_param[1][2]))+(Xscaler[3]*float(k4_param[1][3]))"
   ]
  },
  {
   "cell_type": "code",
   "execution_count": 254,
   "metadata": {
    "collapsed": true
   },
   "outputs": [],
   "source": [
    "error_k4=np.mean((Yscaler-pd.DataFrame(y_k4))**2)"
   ]
  },
  {
   "cell_type": "code",
   "execution_count": 255,
   "metadata": {},
   "outputs": [
    {
     "data": {
      "text/plain": [
       "0    0.11716\n",
       "dtype: float64"
      ]
     },
     "execution_count": 255,
     "metadata": {},
     "output_type": "execute_result"
    }
   ],
   "source": [
    "error_k4"
   ]
  },
  {
   "cell_type": "markdown",
   "metadata": {},
   "source": [
    "## Hacemos lo mismo para k5"
   ]
  },
  {
   "cell_type": "code",
   "execution_count": 256,
   "metadata": {
    "collapsed": true
   },
   "outputs": [],
   "source": [
    "k5_train=df.loc[0:824]\n",
    "k5_test=df.loc[825:1030]\n"
   ]
  },
  {
   "cell_type": "code",
   "execution_count": 257,
   "metadata": {
    "collapsed": true
   },
   "outputs": [],
   "source": [
    "k5_test_x=k5_test[['X','X2', 'X3', 'X4']]\n",
    "k5_test_y=k5_test[['y']]\n",
    "k5_train_x=k5_train[['X','X2', 'X3', 'X4']]\n",
    "k5_train_y=k5_train[['y']]"
   ]
  },
  {
   "cell_type": "code",
   "execution_count": 258,
   "metadata": {
    "collapsed": true
   },
   "outputs": [],
   "source": [
    "X_scaler_p = preprocessing.StandardScaler().fit(k5_test_x)\n",
    "Y_scaler_p = preprocessing.StandardScaler().fit(k5_test_y)\n",
    "X_scaler = preprocessing.StandardScaler().fit(k5_train_x)\n",
    "Y_scaler = preprocessing.StandardScaler().fit(k5_train_y)"
   ]
  },
  {
   "cell_type": "code",
   "execution_count": 259,
   "metadata": {
    "collapsed": true
   },
   "outputs": [],
   "source": [
    "Xscaler_p = X_scaler.transform(k5_test_x)\n",
    "Yscaler_p = Y_scaler.transform(k5_test_y)\n",
    "Xscaler = X_scaler_p.transform(k5_train_x)\n",
    "Yscaler = Y_scaler_p.transform(k5_train_y)"
   ]
  },
  {
   "cell_type": "code",
   "execution_count": 260,
   "metadata": {
    "collapsed": true
   },
   "outputs": [],
   "source": [
    "Xscaler = pd.DataFrame(Xscaler)\n",
    "Yscaler = pd.DataFrame(Yscaler)\n",
    "Xscaler_p = pd.DataFrame(Xscaler_p)\n",
    "Yscaler_p = pd.DataFrame(Yscaler_p)"
   ]
  },
  {
   "cell_type": "code",
   "execution_count": 261,
   "metadata": {},
   "outputs": [
    {
     "data": {
      "text/plain": [
       "LinearRegression(copy_X=True, fit_intercept=True, n_jobs=1, normalize=False)"
      ]
     },
     "execution_count": 261,
     "metadata": {},
     "output_type": "execute_result"
    }
   ],
   "source": [
    "linReg=LinearRegression()\n",
    "linReg.fit(Xscaler, Yscaler)"
   ]
  },
  {
   "cell_type": "code",
   "execution_count": 262,
   "metadata": {
    "collapsed": true
   },
   "outputs": [],
   "source": [
    "k5_param= entrena(w0, W, Xscaler, Yscaler, nu, lam)"
   ]
  },
  {
   "cell_type": "code",
   "execution_count": 263,
   "metadata": {
    "collapsed": true
   },
   "outputs": [],
   "source": [
    "y_k5=float(k5_param[0])+(Xscaler[0]*float(k5_param[1][0]))+(Xscaler[1]*float(k5_param[1][1]))+(Xscaler[2]*float(k5_param[1][2]))+(Xscaler[3]*float(k5_param[1][3]))"
   ]
  },
  {
   "cell_type": "code",
   "execution_count": 264,
   "metadata": {
    "collapsed": true
   },
   "outputs": [],
   "source": [
    "error_k5=np.mean((Yscaler-pd.DataFrame(y_k5))**2)"
   ]
  },
  {
   "cell_type": "code",
   "execution_count": 265,
   "metadata": {
    "collapsed": true
   },
   "outputs": [],
   "source": [
    "error_avg_l3=(error_k1+error_k2+error_k3+error_k4+error_k5)/2"
   ]
  },
  {
   "cell_type": "code",
   "execution_count": 267,
   "metadata": {},
   "outputs": [
    {
     "data": {
      "text/plain": [
       "0    0.402439\n",
       "dtype: float64"
      ]
     },
     "execution_count": 267,
     "metadata": {},
     "output_type": "execute_result"
    }
   ],
   "source": [
    "error_avg_l3"
   ]
  },
  {
   "cell_type": "code",
   "execution_count": null,
   "metadata": {
    "collapsed": true
   },
   "outputs": [],
   "source": []
  },
  {
   "cell_type": "markdown",
   "metadata": {},
   "source": [
    "## Probamos con lambda=0.001"
   ]
  },
  {
   "cell_type": "markdown",
   "metadata": {},
   "source": [
    "## Hacemos el ejercicio con k=1"
   ]
  },
  {
   "cell_type": "code",
   "execution_count": 327,
   "metadata": {
    "collapsed": true
   },
   "outputs": [],
   "source": [
    "k1_test=df.loc[0:206]\n",
    "k1_train=df.loc[207:1030]"
   ]
  },
  {
   "cell_type": "code",
   "execution_count": 328,
   "metadata": {
    "collapsed": true
   },
   "outputs": [],
   "source": [
    "k1_test_x=k1_test[['X','X2', 'X3', 'X4']]\n",
    "k1_test_y=k1_test[['y']]\n",
    "k1_train_x=k1_train[['X','X2', 'X3', 'X4']]\n",
    "k1_train_y=k1_train[['y']]"
   ]
  },
  {
   "cell_type": "code",
   "execution_count": 329,
   "metadata": {
    "collapsed": true
   },
   "outputs": [],
   "source": [
    "X_scaler_p = preprocessing.StandardScaler().fit(k1_test_x)\n",
    "Y_scaler_p = preprocessing.StandardScaler().fit(k1_test_y)\n",
    "X_scaler = preprocessing.StandardScaler().fit(k1_train_x)\n",
    "Y_scaler = preprocessing.StandardScaler().fit(k1_train_y)"
   ]
  },
  {
   "cell_type": "code",
   "execution_count": 330,
   "metadata": {
    "collapsed": true
   },
   "outputs": [],
   "source": [
    "Xscaler_p = X_scaler.transform(k1_test_x)\n",
    "Yscaler_p = Y_scaler.transform(k1_test_y)\n",
    "Xscaler = X_scaler_p.transform(k1_train_x)\n",
    "Yscaler = Y_scaler_p.transform(k1_train_y)"
   ]
  },
  {
   "cell_type": "code",
   "execution_count": 331,
   "metadata": {
    "collapsed": true
   },
   "outputs": [],
   "source": [
    "Xscaler = pd.DataFrame(Xscaler)\n",
    "Yscaler = pd.DataFrame(Yscaler)\n",
    "Xscaler_p = pd.DataFrame(Xscaler_p)\n",
    "Yscaler_p = pd.DataFrame(Yscaler_p)"
   ]
  },
  {
   "cell_type": "code",
   "execution_count": 332,
   "metadata": {},
   "outputs": [
    {
     "data": {
      "text/plain": [
       "LinearRegression(copy_X=True, fit_intercept=True, n_jobs=1, normalize=False)"
      ]
     },
     "execution_count": 332,
     "metadata": {},
     "output_type": "execute_result"
    }
   ],
   "source": [
    "linReg=LinearRegression()\n",
    "linReg.fit(Xscaler, Yscaler)"
   ]
  },
  {
   "cell_type": "code",
   "execution_count": 333,
   "metadata": {},
   "outputs": [
    {
     "name": "stdout",
     "output_type": "stream",
     "text": [
      "[ 0.00103272] 0.0223323796105 0.986856528998 -0.000577749116089 -0.0107970374231\n"
     ]
    }
   ],
   "source": [
    "print linReg.intercept_,  linReg.coef_[0][0], linReg.coef_[0][1], linReg.coef_[0][2], linReg.coef_[0][3]"
   ]
  },
  {
   "cell_type": "code",
   "execution_count": 334,
   "metadata": {},
   "outputs": [
    {
     "name": "stdout",
     "output_type": "stream",
     "text": [
      "[2, -4, -5, 2]\n"
     ]
    }
   ],
   "source": [
    "#Obtenemos la regresión regularizada \n",
    "w0 = float(np.random.randint(-5,5,1))\n",
    "W = list(np.random.randint(-5,5,4))\n",
    "nu = 0.01\n",
    "lam = 0.001\n",
    "print W"
   ]
  },
  {
   "cell_type": "code",
   "execution_count": 335,
   "metadata": {
    "collapsed": true
   },
   "outputs": [],
   "source": [
    "k1_param= entrena(w0, W, Xscaler, Yscaler, nu, lam)\n"
   ]
  },
  {
   "cell_type": "code",
   "execution_count": 336,
   "metadata": {
    "scrolled": true
   },
   "outputs": [
    {
     "data": {
      "text/plain": [
       "(0    0.075943\n",
       " dtype: float64, [0    1.430291\n",
       "  dtype: float64, 0   -0.483874\n",
       "  dtype: float64, 0    0.23677\n",
       "  dtype: float64, 0    0.040748\n",
       "  dtype: float64])"
      ]
     },
     "execution_count": 336,
     "metadata": {},
     "output_type": "execute_result"
    }
   ],
   "source": [
    "k1_param"
   ]
  },
  {
   "cell_type": "code",
   "execution_count": 337,
   "metadata": {
    "collapsed": true
   },
   "outputs": [],
   "source": [
    "y_k1=float(k1_param[0])+(Xscaler[0]*float(k1_param[1][0]))+(Xscaler[1]*float(k1_param[1][1]))+(Xscaler[2]*float(k1_param[1][2]))+(Xscaler[3]*float(k1_param[1][3]))\n"
   ]
  },
  {
   "cell_type": "code",
   "execution_count": 338,
   "metadata": {
    "collapsed": true
   },
   "outputs": [],
   "source": [
    "error_k1=np.mean((Yscaler-pd.DataFrame(y_k1))**2)"
   ]
  },
  {
   "cell_type": "code",
   "execution_count": 339,
   "metadata": {},
   "outputs": [
    {
     "data": {
      "text/plain": [
       "0    2.40517\n",
       "dtype: float64"
      ]
     },
     "execution_count": 339,
     "metadata": {},
     "output_type": "execute_result"
    }
   ],
   "source": [
    "error_k1"
   ]
  },
  {
   "cell_type": "markdown",
   "metadata": {},
   "source": [
    "## Hacemos el mismo proceso para k2"
   ]
  },
  {
   "cell_type": "code",
   "execution_count": 287,
   "metadata": {
    "collapsed": true
   },
   "outputs": [],
   "source": [
    "k2_test=df.loc[207:412]\n",
    "k2_train1=df.loc[0:206]\n",
    "k2_train2=df.loc[413:1030]\n",
    "k2_train=k2_train1.append(k2_train2)"
   ]
  },
  {
   "cell_type": "code",
   "execution_count": 288,
   "metadata": {
    "collapsed": true
   },
   "outputs": [],
   "source": [
    "k2_test_x=k2_test[['X','X2', 'X3', 'X4']]\n",
    "k2_test_y=k2_test[['y']]\n",
    "k2_train_x=k2_train[['X','X2', 'X3', 'X4']]\n",
    "k2_train_y=k2_train[['y']]"
   ]
  },
  {
   "cell_type": "code",
   "execution_count": 289,
   "metadata": {
    "collapsed": true
   },
   "outputs": [],
   "source": [
    "X_scaler_p = preprocessing.StandardScaler().fit(k2_test_x)\n",
    "Y_scaler_p = preprocessing.StandardScaler().fit(k2_test_y)\n",
    "X_scaler = preprocessing.StandardScaler().fit(k2_train_x)\n",
    "Y_scaler = preprocessing.StandardScaler().fit(k2_train_y)"
   ]
  },
  {
   "cell_type": "code",
   "execution_count": 290,
   "metadata": {
    "collapsed": true
   },
   "outputs": [],
   "source": [
    "Xscaler_p = X_scaler.transform(k2_test_x)\n",
    "Yscaler_p = Y_scaler.transform(k2_test_y)\n",
    "Xscaler = X_scaler_p.transform(k2_train_x)\n",
    "Yscaler = Y_scaler_p.transform(k2_train_y)"
   ]
  },
  {
   "cell_type": "code",
   "execution_count": 291,
   "metadata": {
    "collapsed": true
   },
   "outputs": [],
   "source": [
    "Xscaler = pd.DataFrame(Xscaler)\n",
    "Yscaler = pd.DataFrame(Yscaler)\n",
    "Xscaler_p = pd.DataFrame(Xscaler_p)\n",
    "Yscaler_p = pd.DataFrame(Yscaler_p)"
   ]
  },
  {
   "cell_type": "code",
   "execution_count": 292,
   "metadata": {},
   "outputs": [
    {
     "data": {
      "text/plain": [
       "LinearRegression(copy_X=True, fit_intercept=True, n_jobs=1, normalize=False)"
      ]
     },
     "execution_count": 292,
     "metadata": {},
     "output_type": "execute_result"
    }
   ],
   "source": [
    "linReg=LinearRegression()\n",
    "linReg.fit(Xscaler, Yscaler)"
   ]
  },
  {
   "cell_type": "code",
   "execution_count": 293,
   "metadata": {},
   "outputs": [
    {
     "name": "stdout",
     "output_type": "stream",
     "text": [
      "[ 0.02199484] 0.0289034776744 0.980903422884 -0.0015041344545 -0.0103121949698\n"
     ]
    }
   ],
   "source": [
    "print linReg.intercept_,  linReg.coef_[0][0], linReg.coef_[0][1], linReg.coef_[0][2], linReg.coef_[0][3]"
   ]
  },
  {
   "cell_type": "code",
   "execution_count": 294,
   "metadata": {
    "collapsed": true
   },
   "outputs": [],
   "source": [
    "k2_param= entrena(w0, W, Xscaler, Yscaler, nu, lam)"
   ]
  },
  {
   "cell_type": "code",
   "execution_count": 295,
   "metadata": {
    "collapsed": true
   },
   "outputs": [],
   "source": [
    "y_k2=float(k2_param[0])+(Xscaler[0]*float(k2_param[1][0]))+(Xscaler[1]*float(k2_param[1][1]))+(Xscaler[2]*float(k2_param[1][2]))+(Xscaler[3]*float(k2_param[1][3]))"
   ]
  },
  {
   "cell_type": "code",
   "execution_count": 296,
   "metadata": {
    "collapsed": true
   },
   "outputs": [],
   "source": [
    "error_k2=np.mean((Yscaler-pd.DataFrame(y_k2))**2)"
   ]
  },
  {
   "cell_type": "markdown",
   "metadata": {},
   "source": [
    "## Hacemos lo mismo para k3 "
   ]
  },
  {
   "cell_type": "code",
   "execution_count": 297,
   "metadata": {
    "collapsed": true
   },
   "outputs": [],
   "source": [
    "k3_test=df.loc[413:618]\n",
    "k3_train1=df.loc[0:412]\n",
    "k3_train2=df.loc[619:1030]\n",
    "k3_train=k3_train1.append(k3_train2)"
   ]
  },
  {
   "cell_type": "code",
   "execution_count": 298,
   "metadata": {
    "collapsed": true
   },
   "outputs": [],
   "source": [
    "k3_test_x=k3_test[['X','X2', 'X3', 'X4']]\n",
    "k3_test_y=k3_test[['y']]\n",
    "k3_train_x=k3_train[['X','X2', 'X3', 'X4']]\n",
    "k3_train_y=k3_train[['y']]"
   ]
  },
  {
   "cell_type": "code",
   "execution_count": 299,
   "metadata": {
    "collapsed": true
   },
   "outputs": [],
   "source": [
    "X_scaler_p = preprocessing.StandardScaler().fit(k3_test_x)\n",
    "Y_scaler_p = preprocessing.StandardScaler().fit(k3_test_y)\n",
    "X_scaler = preprocessing.StandardScaler().fit(k3_train_x)\n",
    "Y_scaler = preprocessing.StandardScaler().fit(k3_train_y)"
   ]
  },
  {
   "cell_type": "code",
   "execution_count": 300,
   "metadata": {
    "collapsed": true
   },
   "outputs": [],
   "source": [
    "Xscaler_p = X_scaler.transform(k3_test_x)\n",
    "Yscaler_p = Y_scaler.transform(k3_test_y)\n",
    "Xscaler = X_scaler_p.transform(k3_train_x)\n",
    "Yscaler = Y_scaler_p.transform(k3_train_y)"
   ]
  },
  {
   "cell_type": "code",
   "execution_count": 301,
   "metadata": {
    "collapsed": true
   },
   "outputs": [],
   "source": [
    "Xscaler = pd.DataFrame(Xscaler)\n",
    "Yscaler = pd.DataFrame(Yscaler)\n",
    "Xscaler_p = pd.DataFrame(Xscaler_p)\n",
    "Yscaler_p = pd.DataFrame(Yscaler_p)"
   ]
  },
  {
   "cell_type": "code",
   "execution_count": 302,
   "metadata": {},
   "outputs": [
    {
     "data": {
      "text/plain": [
       "LinearRegression(copy_X=True, fit_intercept=True, n_jobs=1, normalize=False)"
      ]
     },
     "execution_count": 302,
     "metadata": {},
     "output_type": "execute_result"
    }
   ],
   "source": [
    "linReg=LinearRegression()\n",
    "linReg.fit(Xscaler, Yscaler)"
   ]
  },
  {
   "cell_type": "code",
   "execution_count": 303,
   "metadata": {
    "collapsed": true
   },
   "outputs": [],
   "source": [
    "k3_param= entrena(w0, W, Xscaler, Yscaler, nu, lam)"
   ]
  },
  {
   "cell_type": "code",
   "execution_count": 304,
   "metadata": {
    "collapsed": true
   },
   "outputs": [],
   "source": [
    "y_k3=float(k3_param[0])+(Xscaler[0]*float(k3_param[1][0]))+(Xscaler[1]*float(k3_param[1][1]))+(Xscaler[2]*float(k3_param[1][2]))+(Xscaler[3]*float(k3_param[1][3]))"
   ]
  },
  {
   "cell_type": "code",
   "execution_count": 305,
   "metadata": {
    "collapsed": true
   },
   "outputs": [],
   "source": [
    "error_k3=np.mean((Yscaler-pd.DataFrame(y_k3))**2)"
   ]
  },
  {
   "cell_type": "markdown",
   "metadata": {},
   "source": [
    "## Hacemos lo mismo para k4"
   ]
  },
  {
   "cell_type": "code",
   "execution_count": 306,
   "metadata": {
    "collapsed": true
   },
   "outputs": [],
   "source": [
    "k4_test=df.loc[619:824]\n",
    "k4_train1=df.loc[0:618]\n",
    "k4_train2=df.loc[825:1030]\n",
    "k4_train=k4_train1.append(k4_train2)"
   ]
  },
  {
   "cell_type": "code",
   "execution_count": 307,
   "metadata": {
    "collapsed": true
   },
   "outputs": [],
   "source": [
    "k4_test_x=k4_test[['X','X2', 'X3', 'X4']]\n",
    "k4_test_y=k4_test[['y']]\n",
    "k4_train_x=k4_train[['X','X2', 'X3', 'X4']]\n",
    "k4_train_y=k4_train[['y']]"
   ]
  },
  {
   "cell_type": "code",
   "execution_count": 308,
   "metadata": {
    "collapsed": true
   },
   "outputs": [],
   "source": [
    "X_scaler_p = preprocessing.StandardScaler().fit(k4_test_x)\n",
    "Y_scaler_p = preprocessing.StandardScaler().fit(k4_test_y)\n",
    "X_scaler = preprocessing.StandardScaler().fit(k4_train_x)\n",
    "Y_scaler = preprocessing.StandardScaler().fit(k4_train_y)"
   ]
  },
  {
   "cell_type": "code",
   "execution_count": 309,
   "metadata": {
    "collapsed": true
   },
   "outputs": [],
   "source": [
    "Xscaler_p = X_scaler.transform(k4_test_x)\n",
    "Yscaler_p = Y_scaler.transform(k4_test_y)\n",
    "Xscaler = X_scaler_p.transform(k4_train_x)\n",
    "Yscaler = Y_scaler_p.transform(k4_train_y)"
   ]
  },
  {
   "cell_type": "code",
   "execution_count": 310,
   "metadata": {
    "collapsed": true
   },
   "outputs": [],
   "source": [
    "Xscaler = pd.DataFrame(Xscaler)\n",
    "Yscaler = pd.DataFrame(Yscaler)\n",
    "Xscaler_p = pd.DataFrame(Xscaler_p)\n",
    "Yscaler_p = pd.DataFrame(Yscaler_p)"
   ]
  },
  {
   "cell_type": "code",
   "execution_count": 311,
   "metadata": {},
   "outputs": [
    {
     "data": {
      "text/plain": [
       "LinearRegression(copy_X=True, fit_intercept=True, n_jobs=1, normalize=False)"
      ]
     },
     "execution_count": 311,
     "metadata": {},
     "output_type": "execute_result"
    }
   ],
   "source": [
    "linReg=LinearRegression()\n",
    "linReg.fit(Xscaler, Yscaler)"
   ]
  },
  {
   "cell_type": "code",
   "execution_count": 312,
   "metadata": {
    "collapsed": true
   },
   "outputs": [],
   "source": [
    "k4_param= entrena(w0, W, Xscaler, Yscaler, nu, lam)"
   ]
  },
  {
   "cell_type": "code",
   "execution_count": 313,
   "metadata": {
    "collapsed": true
   },
   "outputs": [],
   "source": [
    "y_k4=float(k4_param[0])+(Xscaler[0]*float(k4_param[1][0]))+(Xscaler[1]*float(k4_param[1][1]))+(Xscaler[2]*float(k4_param[1][2]))+(Xscaler[3]*float(k4_param[1][3]))"
   ]
  },
  {
   "cell_type": "code",
   "execution_count": 314,
   "metadata": {
    "collapsed": true
   },
   "outputs": [],
   "source": [
    "error_k4=np.mean((Yscaler-pd.DataFrame(y_k4))**2)"
   ]
  },
  {
   "cell_type": "markdown",
   "metadata": {},
   "source": [
    "## Hacemos lo mismo para k5"
   ]
  },
  {
   "cell_type": "code",
   "execution_count": 315,
   "metadata": {
    "collapsed": true
   },
   "outputs": [],
   "source": [
    "k5_train=df.loc[0:824]\n",
    "k5_test=df.loc[825:1030]\n"
   ]
  },
  {
   "cell_type": "code",
   "execution_count": 316,
   "metadata": {
    "collapsed": true
   },
   "outputs": [],
   "source": [
    "k5_test_x=k5_test[['X','X2', 'X3', 'X4']]\n",
    "k5_test_y=k5_test[['y']]\n",
    "k5_train_x=k5_train[['X','X2', 'X3', 'X4']]\n",
    "k5_train_y=k5_train[['y']]"
   ]
  },
  {
   "cell_type": "code",
   "execution_count": 317,
   "metadata": {
    "collapsed": true
   },
   "outputs": [],
   "source": [
    "X_scaler_p = preprocessing.StandardScaler().fit(k5_test_x)\n",
    "Y_scaler_p = preprocessing.StandardScaler().fit(k5_test_y)\n",
    "X_scaler = preprocessing.StandardScaler().fit(k5_train_x)\n",
    "Y_scaler = preprocessing.StandardScaler().fit(k5_train_y)"
   ]
  },
  {
   "cell_type": "code",
   "execution_count": 318,
   "metadata": {
    "collapsed": true
   },
   "outputs": [],
   "source": [
    "Xscaler_p = X_scaler.transform(k5_test_x)\n",
    "Yscaler_p = Y_scaler.transform(k5_test_y)\n",
    "Xscaler = X_scaler_p.transform(k5_train_x)\n",
    "Yscaler = Y_scaler_p.transform(k5_train_y)"
   ]
  },
  {
   "cell_type": "code",
   "execution_count": 319,
   "metadata": {
    "collapsed": true
   },
   "outputs": [],
   "source": [
    "Xscaler = pd.DataFrame(Xscaler)\n",
    "Yscaler = pd.DataFrame(Yscaler)\n",
    "Xscaler_p = pd.DataFrame(Xscaler_p)\n",
    "Yscaler_p = pd.DataFrame(Yscaler_p)"
   ]
  },
  {
   "cell_type": "code",
   "execution_count": 320,
   "metadata": {},
   "outputs": [
    {
     "data": {
      "text/plain": [
       "LinearRegression(copy_X=True, fit_intercept=True, n_jobs=1, normalize=False)"
      ]
     },
     "execution_count": 320,
     "metadata": {},
     "output_type": "execute_result"
    }
   ],
   "source": [
    "linReg=LinearRegression()\n",
    "linReg.fit(Xscaler, Yscaler)"
   ]
  },
  {
   "cell_type": "code",
   "execution_count": 321,
   "metadata": {
    "collapsed": true
   },
   "outputs": [],
   "source": [
    "k5_param= entrena(w0, W, Xscaler, Yscaler, nu, lam)"
   ]
  },
  {
   "cell_type": "code",
   "execution_count": 322,
   "metadata": {
    "collapsed": true
   },
   "outputs": [],
   "source": [
    "y_k5=float(k5_param[0])+(Xscaler[0]*float(k5_param[1][0]))+(Xscaler[1]*float(k5_param[1][1]))+(Xscaler[2]*float(k5_param[1][2]))+(Xscaler[3]*float(k5_param[1][3]))"
   ]
  },
  {
   "cell_type": "code",
   "execution_count": 323,
   "metadata": {
    "collapsed": true
   },
   "outputs": [],
   "source": [
    "error_k5=np.mean((Yscaler-pd.DataFrame(y_k5))**2)"
   ]
  },
  {
   "cell_type": "code",
   "execution_count": 324,
   "metadata": {
    "collapsed": true
   },
   "outputs": [],
   "source": [
    "error_avg_l4=(error_k1+error_k2+error_k3+error_k4+error_k5)/2"
   ]
  },
  {
   "cell_type": "code",
   "execution_count": 325,
   "metadata": {},
   "outputs": [
    {
     "data": {
      "text/plain": [
       "0    7.423563\n",
       "dtype: float64"
      ]
     },
     "execution_count": 325,
     "metadata": {},
     "output_type": "execute_result"
    }
   ],
   "source": [
    "error_avg_l4"
   ]
  },
  {
   "cell_type": "markdown",
   "metadata": {},
   "source": [
    "Comparamos los tres errores"
   ]
  },
  {
   "cell_type": "code",
   "execution_count": 270,
   "metadata": {},
   "outputs": [
    {
     "data": {
      "text/plain": [
       "0    7.335963e+72\n",
       "dtype: float64"
      ]
     },
     "execution_count": 270,
     "metadata": {},
     "output_type": "execute_result"
    }
   ],
   "source": [
    "#error lambda=-0.2\n",
    "error_avg_l1"
   ]
  },
  {
   "cell_type": "code",
   "execution_count": 271,
   "metadata": {},
   "outputs": [
    {
     "data": {
      "text/plain": [
       "0    2.018866\n",
       "dtype: float64"
      ]
     },
     "execution_count": 271,
     "metadata": {},
     "output_type": "execute_result"
    }
   ],
   "source": [
    "#error lambda=0.15\n",
    "error_avg_l2"
   ]
  },
  {
   "cell_type": "code",
   "execution_count": 272,
   "metadata": {},
   "outputs": [
    {
     "data": {
      "text/plain": [
       "0    0.402439\n",
       "dtype: float64"
      ]
     },
     "execution_count": 272,
     "metadata": {},
     "output_type": "execute_result"
    }
   ],
   "source": [
    "#error lambda=0.01\n",
    "error_avg_l3"
   ]
  },
  {
   "cell_type": "code",
   "execution_count": 326,
   "metadata": {},
   "outputs": [
    {
     "data": {
      "text/plain": [
       "0    7.423563\n",
       "dtype: float64"
      ]
     },
     "execution_count": 326,
     "metadata": {},
     "output_type": "execute_result"
    }
   ],
   "source": [
    "#error lambda=0.001\n",
    "error_avg_l4"
   ]
  }
 ],
 "metadata": {
  "kernelspec": {
   "display_name": "Python 2",
   "language": "python",
   "name": "python2"
  },
  "language_info": {
   "codemirror_mode": {
    "name": "ipython",
    "version": 2
   },
   "file_extension": ".py",
   "mimetype": "text/x-python",
   "name": "python",
   "nbconvert_exporter": "python",
   "pygments_lexer": "ipython2",
   "version": "2.7.13"
  }
 },
 "nbformat": 4,
 "nbformat_minor": 2
}
