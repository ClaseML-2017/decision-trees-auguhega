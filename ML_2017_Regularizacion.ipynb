{
 "cells": [
  {
   "cell_type": "markdown",
   "metadata": {
    "collapsed": true
   },
   "source": [
    "# Regularizacion "
   ]
  },
  {
   "cell_type": "code",
   "execution_count": 1,
   "metadata": {
    "collapsed": true
   },
   "outputs": [],
   "source": [
    "import pandas as pd\n",
    "import numpy as np\n",
    "import csv\n",
    "import random as rnd\n",
    "from sklearn.model_selection import train_test_split\n",
    "from sklearn.linear_model import LinearRegression\n",
    "from sklearn import preprocessing\n",
    "import matplotlib.pyplot as plt\n",
    "%matplotlib inline"
   ]
  },
  {
   "cell_type": "code",
   "execution_count": 2,
   "metadata": {
    "collapsed": true
   },
   "outputs": [],
   "source": [
    "df=pd.read_csv('regLinPoli.csv')"
   ]
  },
  {
   "cell_type": "code",
   "execution_count": 3,
   "metadata": {},
   "outputs": [
    {
     "data": {
      "text/html": [
       "<div>\n",
       "<style>\n",
       "    .dataframe thead tr:only-child th {\n",
       "        text-align: right;\n",
       "    }\n",
       "\n",
       "    .dataframe thead th {\n",
       "        text-align: left;\n",
       "    }\n",
       "\n",
       "    .dataframe tbody tr th {\n",
       "        vertical-align: top;\n",
       "    }\n",
       "</style>\n",
       "<table border=\"1\" class=\"dataframe\">\n",
       "  <thead>\n",
       "    <tr style=\"text-align: right;\">\n",
       "      <th></th>\n",
       "      <th>X</th>\n",
       "      <th>X2</th>\n",
       "      <th>X3</th>\n",
       "      <th>X4</th>\n",
       "      <th>y</th>\n",
       "    </tr>\n",
       "  </thead>\n",
       "  <tbody>\n",
       "    <tr>\n",
       "      <th>0</th>\n",
       "      <td>7.317938</td>\n",
       "      <td>53.552216</td>\n",
       "      <td>1.683319</td>\n",
       "      <td>0.859736</td>\n",
       "      <td>20.716319</td>\n",
       "    </tr>\n",
       "    <tr>\n",
       "      <th>1</th>\n",
       "      <td>1.284357</td>\n",
       "      <td>1.649574</td>\n",
       "      <td>3.395139</td>\n",
       "      <td>0.959256</td>\n",
       "      <td>8.098008</td>\n",
       "    </tr>\n",
       "    <tr>\n",
       "      <th>2</th>\n",
       "      <td>97.740652</td>\n",
       "      <td>9553.235088</td>\n",
       "      <td>0.366480</td>\n",
       "      <td>-0.344100</td>\n",
       "      <td>5992.603427</td>\n",
       "    </tr>\n",
       "    <tr>\n",
       "      <th>3</th>\n",
       "      <td>17.753591</td>\n",
       "      <td>315.190006</td>\n",
       "      <td>-1.945300</td>\n",
       "      <td>-0.889370</td>\n",
       "      <td>199.959361</td>\n",
       "    </tr>\n",
       "    <tr>\n",
       "      <th>4</th>\n",
       "      <td>66.441081</td>\n",
       "      <td>4414.417290</td>\n",
       "      <td>0.504995</td>\n",
       "      <td>-0.450777</td>\n",
       "      <td>2384.624168</td>\n",
       "    </tr>\n",
       "  </tbody>\n",
       "</table>\n",
       "</div>"
      ],
      "text/plain": [
       "           X           X2        X3        X4            y\n",
       "0   7.317938    53.552216  1.683319  0.859736    20.716319\n",
       "1   1.284357     1.649574  3.395139  0.959256     8.098008\n",
       "2  97.740652  9553.235088  0.366480 -0.344100  5992.603427\n",
       "3  17.753591   315.190006 -1.945300 -0.889370   199.959361\n",
       "4  66.441081  4414.417290  0.504995 -0.450777  2384.624168"
      ]
     },
     "execution_count": 3,
     "metadata": {},
     "output_type": "execute_result"
    }
   ],
   "source": [
    "df.head()"
   ]
  },
  {
   "cell_type": "code",
   "execution_count": 4,
   "metadata": {
    "collapsed": true
   },
   "outputs": [],
   "source": [
    "X_train, X_test, Y_train, Y_test = train_test_split(df[['X', 'X2', 'X3', 'X4']],df[['y']], train_size=0.75)"
   ]
  },
  {
   "cell_type": "code",
   "execution_count": 5,
   "metadata": {
    "collapsed": true
   },
   "outputs": [],
   "source": [
    "X_scaler = preprocessing.StandardScaler().fit(X_train)\n",
    "Y_scaler = preprocessing.StandardScaler().fit(Y_train)\n",
    "X_scaler_p = preprocessing.StandardScaler().fit(X_test)\n",
    "Y_scaler_p = preprocessing.StandardScaler().fit(Y_test)"
   ]
  },
  {
   "cell_type": "code",
   "execution_count": 6,
   "metadata": {
    "collapsed": true
   },
   "outputs": [],
   "source": [
    "Xscaler = X_scaler.transform(X_train)\n",
    "Yscaler = Y_scaler.transform(Y_train)\n",
    "Xscaler_p = X_scaler_p.transform(X_test)\n",
    "Yscaler_p = Y_scaler_p.transform(Y_test)"
   ]
  },
  {
   "cell_type": "code",
   "execution_count": 7,
   "metadata": {
    "collapsed": true
   },
   "outputs": [],
   "source": [
    "Xscaler = pd.DataFrame(Xscaler)\n",
    "Yscaler = pd.DataFrame(Yscaler)\n",
    "Xscaler_p = pd.DataFrame(Xscaler_p)\n",
    "Yscaler_p = pd.DataFrame(Yscaler_p)"
   ]
  },
  {
   "cell_type": "code",
   "execution_count": 8,
   "metadata": {},
   "outputs": [
    {
     "data": {
      "text/plain": [
       "LinearRegression(copy_X=True, fit_intercept=True, n_jobs=1, normalize=False)"
      ]
     },
     "execution_count": 8,
     "metadata": {},
     "output_type": "execute_result"
    }
   ],
   "source": [
    "linReg=LinearRegression()\n",
    "linReg.fit(Xscaler, Yscaler)"
   ]
  },
  {
   "cell_type": "code",
   "execution_count": 9,
   "metadata": {},
   "outputs": [
    {
     "name": "stdout",
     "output_type": "stream",
     "text": [
      "[ -1.64942081e-16] 0.0394803264156 0.950431020564 -0.00359911426329 -0.00790440018439\n"
     ]
    }
   ],
   "source": [
    "print linReg.intercept_,  linReg.coef_[0][0], linReg.coef_[0][1], linReg.coef_[0][2], linReg.coef_[0][3]"
   ]
  },
  {
   "cell_type": "code",
   "execution_count": 10,
   "metadata": {
    "collapsed": true
   },
   "outputs": [],
   "source": [
    "def salida (w0, W, X1):\n",
    "    V_X = w0\n",
    "    for k in range(len(W)):\n",
    "        V_X = V_X + (W[k]* X1[k])\n",
    "    return V_X"
   ]
  },
  {
   "cell_type": "code",
   "execution_count": 11,
   "metadata": {
    "collapsed": true
   },
   "outputs": [],
   "source": [
    "def entrena (w0, W, X, Y, nu, lam):\n",
    "    for i in range (len(X)):\n",
    "        X1 = X.iloc[i]\n",
    "        sal = salida(w0, W, X1)\n",
    "        error=Y.iloc[i] - sal\n",
    "        w0 = w0 + (nu*error)\n",
    "        for j in range(len(X1)):\n",
    "            W[j] = W[j] + (nu*error*X.iloc[i][j]) - (lam*W[j])\n",
    "    return w0,W"
   ]
  },
  {
   "cell_type": "code",
   "execution_count": 12,
   "metadata": {},
   "outputs": [
    {
     "name": "stdout",
     "output_type": "stream",
     "text": [
      "[1, 4, -4, 4]\n"
     ]
    }
   ],
   "source": [
    "#Obtenemos la regresión regularizada \n",
    "w0 = float(np.random.randint(-5,5,1))\n",
    "W = list(np.random.randint(-5,5,4))\n",
    "nu = 0.01\n",
    "lam = 0.05\n",
    "print W"
   ]
  },
  {
   "cell_type": "code",
   "execution_count": 13,
   "metadata": {},
   "outputs": [
    {
     "data": {
      "text/plain": [
       "(0    0.086498\n",
       " dtype: float64, [0    0.146868\n",
       "  dtype: float64, 0    0.160612\n",
       "  dtype: float64, 0    0.004189\n",
       "  dtype: float64, 0    0.02751\n",
       "  dtype: float64])"
      ]
     },
     "execution_count": 13,
     "metadata": {},
     "output_type": "execute_result"
    }
   ],
   "source": [
    "prueba1= entrena(w0, W, Xscaler, Yscaler, nu, lam)\n",
    "prueba1"
   ]
  },
  {
   "cell_type": "code",
   "execution_count": 15,
   "metadata": {},
   "outputs": [
    {
     "name": "stdout",
     "output_type": "stream",
     "text": [
      "0   -0.244189\n",
      "1   -0.314520\n",
      "2   -0.141357\n",
      "3    0.583323\n",
      "4    0.708938\n",
      "dtype: float64\n"
     ]
    }
   ],
   "source": [
    "y_prueb=float(prueba1[0])+(Xscaler[0]*float(prueba1[1][0]))+(Xscaler[1]*float(prueba1[1][1]))+(Xscaler[2]*float(prueba1[1][2]))+(Xscaler[3]*float(prueba1[1][3]))\n",
    "print y_prueb.head()"
   ]
  },
  {
   "cell_type": "code",
   "execution_count": 16,
   "metadata": {},
   "outputs": [
    {
     "data": {
      "image/png": "[encoded data removed]",
      "text/plain": [
       "<matplotlib.figure.Figure at 0xcb0aba8>"
      ]
     },
     "metadata": {},
     "output_type": "display_data"
    }
   ],
   "source": [
    "plt.scatter(Xscaler[0], Yscaler[0], color='blue')\n",
    "plt.scatter(Xscaler[0], y_prueb, color='red', linewidth=1)\n",
    "plt.show()"
   ]
  }
 ],
 "metadata": {
  "kernelspec": {
   "display_name": "Python 2",
   "language": "python",
   "name": "python2"
  },
  "language_info": {
   "codemirror_mode": {
    "name": "ipython",
    "version": 2
   },
   "file_extension": ".py",
   "mimetype": "text/x-python",
   "name": "python",
   "nbconvert_exporter": "python",
   "pygments_lexer": "ipython2",
   "version": "2.7.13"
  }
 },
 "nbformat": 4,
 "nbformat_minor": 2
}
